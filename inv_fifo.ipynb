{
 "cells": [
  {
   "cell_type": "code",
   "execution_count": null,
   "metadata": {},
   "outputs": [],
   "source": [
    "# -- select * from  dsc_dwd.dwd_wh_dsc_inventory_dtl_di \n",
    "# -- where src = 'scale'\n",
    "# -- and data_source in ('scale_hpi', 'scale_michelin', 'scale_fas', 'scale_bose')\n",
    "# -- and inc_day in ('20211124', '20211117', '20211110', '20211103', \n",
    "# -- '20211027', '20211020', '20211013','20211006')\n",
    "# -- and usage_flag = '1'"
   ]
  },
  {
   "cell_type": "code",
   "execution_count": 1,
   "metadata": {},
   "outputs": [
    {
     "name": "stdout",
     "output_type": "stream",
     "text": [
      "['inv_1220.csv', 'inv_7.csv', 'inv_7_2.csv']\n"
     ]
    }
   ],
   "source": [
    "import pandas as pd\n",
    "import numpy as np\n",
    "from datetime import datetime, date, timedelta\n",
    "import re\n",
    "import os\n",
    "import warnings\n",
    "from tqdm import tqdm\n",
    "warnings.filterwarnings(\"ignore\")\n",
    "\n",
    "print(os.listdir('data_down'))"
   ]
  },
  {
   "cell_type": "code",
   "execution_count": 2,
   "metadata": {},
   "outputs": [
    {
     "name": "stdout",
     "output_type": "stream",
     "text": [
      "Wall time: 1.13 s\n"
     ]
    }
   ],
   "source": [
    "%%time\n",
    "df = pd.read_csv('./data_down/inv_1220.csv', sep='\\001')\n",
    "df.columns = [re.sub('\\w+\\.', '', i) for i in list(df.columns)]\n",
    "df = df.dropna(how = 'all', axis =1)\n",
    "time_cols = pd.Series(df.columns)[pd.Series(df.columns).str.lower().str.findall('date|time').apply(len)>0]\n",
    "df[time_cols] = df[time_cols].apply(lambda x: x.str.slice(0,10))\n",
    "df9 = df"
   ]
  },
  {
   "cell_type": "code",
   "execution_count": 14,
   "metadata": {},
   "outputs": [],
   "source": [
    "from datetime import date, timedelta\n",
    "\n",
    "def allsundays(year):\n",
    "    return pd.Series(pd.date_range(start=str(year), end=str(year+12), \n",
    "                        freq='W-FRI').strftime('%Y%m%d'))\n",
    "fridays = tuple([i for i in list(allsundays(2021)[allsundays(2021) < date.today().strftime('%Y%m%d')][-8:])])\n",
    "\n",
    "\n",
    "# sql = \"\"\"\n",
    "#     select * from  dsc_dwd.dwd_wh_dsc_inventory_dtl_di \n",
    "#     where src = 'scale'\n",
    "#     and ou_code in (\n",
    "#     'HPPXXWHWDS', \n",
    "#     'MICHETCTGS'\n",
    "#     'COSTASHHTS',\n",
    "#     'ZEBRASHALS'\n",
    "#     )\n",
    "#     and inc_day in \"\"\"+ str(fridays) + \"\"\"\n",
    "#     and usage_flag = '1'\n",
    "#     \"\"\"\n",
    "# print(sql)"
   ]
  },
  {
   "cell_type": "code",
   "execution_count": 4,
   "metadata": {},
   "outputs": [],
   "source": [
    "code = ''\n",
    "\n",
    "df0 = pd.DataFrame()\n",
    "scan_len = len(df['inc_day'].unique())  \n",
    "\n",
    "def load_data(ou_code):\n",
    "    \"\"\"\n",
    "    load bose data;\n",
    "    所有类型的qty都要加起来哦\n",
    "    只选择有多个收货日期的货物\n",
    "    \"\"\"\n",
    "    global code,df\n",
    "    df = df9\n",
    "    df = df[df['ou_code'].astype(str) == ou_code]\n",
    "\n",
    "    def fifo_fefo(df, type):\n",
    "        if type == 'fifo':\n",
    "            df['recived_date'] = pd.to_datetime(df['recived_date'])\n",
    "            df['fifo_fefo'] = 'fifo'\n",
    "        elif type == 'fefo':\n",
    "            df['recived_date'] = pd.to_datetime(df['expiration_date'].str.slice(0,10))\n",
    "            df['fifo_fefo'] = 'fefo'\n",
    "        else: \n",
    "            pass\n",
    "        return df \n",
    "\n",
    "    if ou_code == 'HPPXXWHWDS':\n",
    "        # hp wh\n",
    "        code = '(QH|27|QI)'\n",
    "        df = fifo_fefo(df, 'fifo')\n",
    "\n",
    "    elif ou_code == 'MICHETCTGS':\n",
    "        df = df[df['expiration_date'] != '4712-12-31']\n",
    "        # mich tc, rt,m  FEFO\n",
    "        code = '(BLOCKED_TH|RETURN)'\n",
    "        df = fifo_fefo(df, 'fefo')\n",
    "\n",
    "    elif ou_code == 'COSTASHHTS':\n",
    "        # COSTASHHTS expiration_date 没有空值.\n",
    "        df1 = df[df['expiration_date'] == '4712-12-31'] # fifo\n",
    "        df2 = df[df['expiration_date'] != '4712-12-31'] # fefo\n",
    "        df1 = fifo_fefo(df1, 'fifo')\n",
    "        df2 = fifo_fefo(df2, 'fefo')\n",
    "        df = pd.concat([df1, df2], axis = 0)\n",
    "        code = '(blocked)'\n",
    "\n",
    "    elif ou_code == 'SIEMESUEPS':\n",
    "        pass\n",
    "\n",
    "    # print(code)\n",
    "    print('{note:=>50}'.format(note=code) + '{note:=>50}'.format(note=''))\n",
    "\n",
    "    print(\"===============================this_code: %s=================================\"%code)\n",
    "    \n",
    "    \n",
    "    df = df[['wms_company_name', 'wms_warehouse_id','sku_code', 'sku_name', 'sku_desc', 'location',\\\n",
    "        'lock_codes', 'on_hand_qty', 'in_transit_qty','allocated_qty', 'shelf_days', \n",
    "        'recived_date','usage_flag', 'fifo_fefo','inc_day']]\n",
    "    df['qty'] = df['on_hand_qty']\n",
    "    \n",
    "    \n",
    "    # 没有重复的 目前看....aaa\n",
    "    df = df.groupby(\n",
    "        ['recived_date', 'sku_code', 'lock_codes','inc_day', 'wms_warehouse_id', 'fifo_fefo'],\n",
    "        dropna = False\n",
    "        ).agg(\n",
    "    {\n",
    "        'qty':sum,\n",
    "        'location': set\n",
    "    }\n",
    "    ).sort_values(['sku_code', 'recived_date']).reset_index()\n",
    "    # 只选择有多个收货日期的货物\n",
    "    filter0 = df.groupby(['sku_code'])['recived_date'].agg(\n",
    "    {\n",
    "        set\n",
    "    }\n",
    "        ).reset_index()\n",
    "\n",
    "    filter0 = pd.DataFrame(filter0[filter0['set'].apply(len)> 1]['sku_code'].drop_duplicates())\n",
    "    bose_inv = filter0.merge(df, on = ['sku_code'], how = 'inner')\\\n",
    "        .sort_values(['recived_date','sku_code', 'inc_day'])\n",
    "    bose_inv['ou_code'] = ou_code\n",
    "    \n",
    "    return bose_inv\n",
    "\n",
    "\n",
    "def snapshot():\n",
    "    \"\"\"\n",
    "    pivot table. inc_day 快照 作为 cols\n",
    "    添加标记.\n",
    "    \"\"\"\n",
    "    global df0, bose_inv\n",
    "    for i in tqdm(bose_inv['sku_code'].unique()):\n",
    "        df_out = bose_inv[bose_inv['sku_code'] == i]\\\n",
    "            .pivot_table(columns=['inc_day'], index = 'recived_date', values=['qty']).reset_index()\n",
    "        df_out['sku_code'] = i\n",
    "        df0 = pd.concat([df0, df_out], axis = 0)\n",
    "    try:\n",
    "        df0.columns = df0.columns.get_level_values(level=1)\n",
    "    except:\n",
    "        pass\n",
    "    \n",
    "    df0.columns = list(df0.columns[0:scan_len]) + ['received_date','sku']\n",
    "    df0 = df0.sort_values(['sku', 'received_date'])\n",
    "    df0['mark'] = 0\n",
    "    \n",
    "    df0['mark'] = df0['mark'].where(\n",
    "        df0.iloc[:, 0: (scan_len - 1)].isna().all(axis = 1) == False, 'new')\n",
    "    df0['mark'] = df0['mark'].where(\n",
    "        ~df0.iloc[:,(scan_len - 1)].isna() , 'clear')\n",
    "    # fill na~\n",
    "    df0 = df0.fillna(0)\n",
    "    bose_inv = bose_inv.rename({'sku_code':'sku', 'recived_date':'received_date'}, axis = 1)\\\n",
    "        .reset_index(drop = True).drop(['inc_day', 'qty'], axis = 1)\n",
    "    bose_inv = bose_inv.drop_duplicates(subset = ['sku', 'received_date', 'lock_codes'])\n",
    "    df0 = df0.merge(bose_inv, on = ['sku','received_date'], how = 'left')\n",
    "\n",
    "    # may lock\n",
    "    df0['mark'] = df0['mark'].where(df0.iloc[:, 0:scan_len].fillna(0).nunique(axis = 1) > 1, 'may_lock')\n",
    "    \n",
    "def err_part():\n",
    "    \"\"\"\n",
    "    findout who are the naught peach.\n",
    "    err 中干掉了 new 干掉了maylock \n",
    "    \"\"\"\n",
    "    df_err = df0[df0['mark'] != 'new']\n",
    "    # 补充可能被锁的标记\n",
    "    # df_err['mark'] = df_err['mark'].where(df_err.iloc[:, 0:8].fillna(0).nunique(axis = 1) > 1, 'may_lock')\n",
    "    # 干掉了maylock\n",
    "    df_err = df_err[df_err['mark'] != 'may_lock'].sort_values(['sku', 'received_date'])\n",
    "    df_err['change'] = df_err.iloc[:,0:scan_len].diff(axis = 1).sum(axis = 1)\n",
    "    shift = df_err.groupby(['sku', 'wms_warehouse_id']).shift(1) \n",
    "    shift = shift[['mark','change']]\n",
    "    shift.columns = ['lag_mark', 'lag_change']\n",
    "    shift['lag_mark'] = shift['lag_mark'].where(~shift['lag_mark'].isna(), 'clear')\n",
    "    df_err = pd.concat([df_err, shift], axis = 1)\n",
    "    return df_err\n",
    "def output(df_err, df0):\n",
    "    dishes = list(df_err[(df_err['lag_mark'] != 'clear') \\\n",
    "        & (df_err['change'] < 0)\n",
    "        & (df_err['change'] != df_err['lag_change'])]['sku'].unique())\n",
    "    return df0[df0['sku'].isin(dishes)]\n",
    "\n",
    "def check(sku, df0):\n",
    "    a = df0[df0['sku'].isin(sku)].sort_values(['sku','received_date'])\n",
    "    return a \n",
    "\n",
    "def ou_level_lock_codes(lock_code_to_eliminate):\n",
    "    \"\"\"\n",
    "    正则. lock_code 需要被排除的, 依赖view表格. \n",
    "    \"\"\"\n",
    "    # output(df_err_bose,df0_bose)['sku'].unique()\n",
    "    select_none_lock  = pd.DataFrame(\n",
    "        view.groupby('sku')['mark'].apply(list).astype(str).str.match('.+may')\n",
    "        ).reset_index()\n",
    "    select_none_lock2 = pd.DataFrame(\n",
    "        view.groupby('sku')['lock_codes'].apply(list).astype(str).str.match('.+'+lock_code_to_eliminate)\n",
    "        ).reset_index()\n",
    "    # 去重    \n",
    "    bose_err_list = set(select_none_lock[~select_none_lock['mark']]['sku'].unique())\n",
    "    bose_err_list2 = list(select_none_lock2[~select_none_lock2['lock_codes']]['sku'].unique())\n",
    "    bose_err_list = list(bose_err_list.intersection(bose_err_list2))\n",
    "    bose_err_list = list(set(bose_err_list))\n",
    "    return bose_err_list\n"
   ]
  },
  {
   "cell_type": "code",
   "execution_count": null,
   "metadata": {},
   "outputs": [],
   "source": [
    "# bose_inv = load_data('COSTASHHTS');bose_inv\n",
    "# snapshot()"
   ]
  },
  {
   "cell_type": "code",
   "execution_count": 5,
   "metadata": {},
   "outputs": [
    {
     "name": "stderr",
     "output_type": "stream",
     "text": [
      "  0%|          | 0/3 [00:00<?, ?it/s]"
     ]
    },
    {
     "name": "stdout",
     "output_type": "stream",
     "text": [
      "=========================================(blocked)==================================================\n",
      "===============================this_code: (blocked)=================================\n",
      "(blocked)\n",
      "['COSTASHHTS']\n"
     ]
    },
    {
     "name": "stderr",
     "output_type": "stream",
     "text": [
      "100%|██████████| 462/462 [00:19<00:00, 24.01it/s]\n",
      " 33%|███▎      | 1/3 [00:19<00:39, 19.88s/it]"
     ]
    },
    {
     "name": "stdout",
     "output_type": "stream",
     "text": [
      "========================================(QH|27|QI)==================================================\n",
      "===============================this_code: (QH|27|QI)=================================\n",
      "(QH|27|QI)\n",
      "['HPPXXWHWDS']\n"
     ]
    },
    {
     "name": "stderr",
     "output_type": "stream",
     "text": [
      "100%|██████████| 230/230 [00:08<00:00, 27.80it/s]\n",
      " 67%|██████▋   | 2/3 [00:28<00:13, 13.40s/it]"
     ]
    },
    {
     "name": "stdout",
     "output_type": "stream",
     "text": [
      "===============================(BLOCKED_TH|RETURN)==================================================\n",
      "===============================this_code: (BLOCKED_TH|RETURN)=================================\n",
      "(BLOCKED_TH|RETURN)\n",
      "['MICHETCTGS']\n"
     ]
    },
    {
     "name": "stderr",
     "output_type": "stream",
     "text": [
      "100%|██████████| 635/635 [00:30<00:00, 21.08it/s]\n",
      "100%|██████████| 3/3 [01:00<00:00, 20.00s/it]\n"
     ]
    }
   ],
   "source": [
    "\n",
    "out_df = pd.DataFrame()\n",
    "for ou_code0 in df['ou_code'].unique():\n",
    "\n",
    "    bose_inv = load_data(ou_code0)\n",
    "    \n",
    "    print('{note:=>50}'.format(note=ou_code0) + '{note:=>50}'.format(note=''))\n",
    "    print(\"===============================this_code: %s=================================\"%code)\n",
    "    print(bose_inv['ou_code'].unique())\n",
    "    print(\"===============================this_code: %s=================================\"%bose_inv['ou_code'].unique())\n",
    "\n",
    "\n",
    "    df0 = pd.DataFrame()\n",
    "    snapshot()\n",
    "    df_err = err_part()\n",
    "\n",
    "    view = output(df_err, df0)\n",
    "    bose_err_list = ou_level_lock_codes(code)\n",
    "    bose_definite_wrong = check(bose_err_list, df0)\n",
    "    out_df = pd.concat([out_df, bose_definite_wrong], axis = 0)\n"
   ]
  },
  {
   "cell_type": "code",
   "execution_count": 10,
   "metadata": {},
   "outputs": [
    {
     "data": {
      "text/plain": [
       "array(['COSTASHHTS', 'HPPXXWHWDS', 'MICHETCTGS'], dtype=object)"
      ]
     },
     "execution_count": 10,
     "metadata": {},
     "output_type": "execute_result"
    }
   ],
   "source": [
    "out_df['ou_code'].unique()"
   ]
  },
  {
   "cell_type": "code",
   "execution_count": null,
   "metadata": {},
   "outputs": [],
   "source": []
  },
  {
   "cell_type": "code",
   "execution_count": 13,
   "metadata": {},
   "outputs": [],
   "source": [
    "# out_df[out_df['ou_code'] == 'COSTASHHTS']"
   ]
  },
  {
   "cell_type": "code",
   "execution_count": null,
   "metadata": {},
   "outputs": [],
   "source": [
    "out_df['lock_codes'].unique()"
   ]
  },
  {
   "cell_type": "markdown",
   "metadata": {},
   "source": []
  },
  {
   "cell_type": "markdown",
   "metadata": {},
   "source": []
  },
  {
   "cell_type": "code",
   "execution_count": null,
   "metadata": {},
   "outputs": [],
   "source": [
    "def load_data(ou_code):\n",
    "    \"\"\"\n",
    "    load bose data;\n",
    "    所有类型的qty都要加起来哦\n",
    "    只选择有多个收货日期的货物\n",
    "    \"\"\"\n",
    "    global code\n",
    "    df = df9\n",
    "    df = df[df['ou_code'].astype(str) == ou_code]\n",
    "\n",
    "    def fifo_fefo(df, type):\n",
    "        if type == 'fifo':\n",
    "            df['recived_date'] = pd.to_datetime(df['recived_date'])\n",
    "            df['fifo_fefo'] = 'fifo'\n",
    "        elif type == 'fefo':\n",
    "            df['recived_date'] = pd.to_datetime(df['expiration_date'])\n",
    "            df['fifo_fefo'] = 'fefo'\n",
    "        else: \n",
    "            pass\n",
    "        return df \n",
    "\n",
    "    if ou_code == 'HPPXXWHWDS':\n",
    "        # hp wh\n",
    "        code = '(QH|27|QI)'\n",
    "        df = fifo_fefo(df, 'fifo')\n",
    "\n",
    "    elif ou_code == 'MICHETCTGS':\n",
    "        # mich tc, rt,m  FEFO\n",
    "        df = fifo_fefo(df, 'fefo')\n",
    "\n",
    "    elif ou_code == 'COSTASHHTS':\n",
    "        # COSTASHHTS expiration_date 没有空值.\n",
    "        df1 = df[df['expiration_date'] == '4712-12-31 00:00:00'] # fifo\n",
    "        df2 = df[df['expiration_date'] != '4712-12-31 00:00:00'] # fefo\n",
    "        df1 = fifo_fefo(df1, 'fifo')\n",
    "        df2 = fifo_fefo(df2, 'fefo')\n",
    "        df = pd.concat([df1, df2], axis = 0)\n",
    "\n",
    "    elif ou_code == 'SIEMESUEPS':\n",
    "        pass\n",
    "    \n",
    "    \n",
    "    df = df[['wms_company_name', 'wms_warehouse_id','sku_code', 'sku_name', 'sku_desc', 'location',\\\n",
    "        'lock_codes', 'on_hand_qty', 'in_transit_qty','allocated_qty', 'shelf_days', \n",
    "        'recived_date','usage_flag', 'fifo_fefo','inc_day']]\n",
    "    # qty = pd.Series(df.columns).str.extract('(.+qty)').dropna(axis = 0)\n",
    "    # df['qty'] = df[qty[0]].sum(axis = 1).round(2)\n",
    "    df['qty'] = df['on_hand_qty']\n",
    "    \n",
    "    # bose_inv.drop_duplicates(subset = ['sku_code', 'recived_date', 'lock_codes', 'inc_day', 'qty'])\n",
    "    # 没有重复的 目前看....aaa\n",
    "    df = df.groupby(\n",
    "        ['recived_date', 'sku_code', 'lock_codes','inc_day', 'wms_warehouse_id', 'fifo_fefo'], dropna = False\n",
    "        ).agg(\n",
    "    {\n",
    "        'qty':sum,\n",
    "        'location': set\n",
    "    }\n",
    "    ).sort_values(['sku_code', 'recived_date']).reset_index()\n",
    "    # 只选择有多个收货日期的货物\n",
    "    filter0 = df.groupby(['sku_code'])['recived_date'].agg(\n",
    "    {\n",
    "        set\n",
    "    }\n",
    "        ).reset_index()\n",
    "\n",
    "    filter0 = pd.DataFrame(filter0[filter0['set'].apply(len)> 1]['sku_code'].drop_duplicates())\n",
    "    bose_inv = filter0.merge(df, on = ['sku_code'], how = 'inner')\\\n",
    "        .sort_values(['recived_date','sku_code', 'inc_day'])\n",
    "    \n",
    "    return bose_inv\n",
    "\n"
   ]
  },
  {
   "cell_type": "code",
   "execution_count": null,
   "metadata": {},
   "outputs": [],
   "source": [
    "# =======================\n",
    "# # 只选择多次出库的货物\n",
    "# filter = bose.groupby(['recived_date', 'sku_code'])['inc_day'].agg({set}).reset_index()\n",
    "# filter = filter[filter['set'].apply(len)> 1][['recived_date','sku_code']].drop_duplicates();filter\n",
    "# bose_inv.head(4)\n",
    "bose_inv = load_data('HPPXXWHWDS')"
   ]
  },
  {
   "cell_type": "code",
   "execution_count": null,
   "metadata": {},
   "outputs": [],
   "source": [
    "%%time\n",
    "df0 = pd.DataFrame()\n",
    "def snapshot():\n",
    "    \"\"\"\n",
    "    pivot table. inc_day 快照 作为 cols\n",
    "    添加标记.\n",
    "    \"\"\"\n",
    "    global df0, bose_inv\n",
    "    for i in tqdm(bose_inv['sku_code'].unique(), ascii= False, colour = 'green'):\n",
    "        df_out = bose_inv[bose_inv['sku_code'] == i]\\\n",
    "            .pivot_table(columns=['inc_day'], index = 'recived_date', values=['qty']).reset_index()\n",
    "        df_out['sku_code'] = i\n",
    "        df0 = pd.concat([df0, df_out], axis = 0)\n",
    "    try:\n",
    "        df0.columns = df0.columns.get_level_values(level=1)\n",
    "    except:\n",
    "        pass\n",
    "    df0.columns = list(df0.columns[0:8]) + ['received_date','sku']\n",
    "    df0 = df0.sort_values(['sku', 'received_date'])\n",
    "    df0['mark'] = 0\n",
    "    # 这个吊东`西不知道为什么是反选的 \n",
    "    df0['mark'] = df0['mark'].where(df0.iloc[:, 0:7].isna().all(axis = 1) == False, 'new')\n",
    "    df0['mark'] = df0['mark'].where(~df0.iloc[:,7].isna() , 'clear')\n",
    "    # fill na~\n",
    "    df0 = df0.fillna(0)\n",
    "    bose_inv = bose_inv.rename({'sku_code':'sku', 'recived_date':'received_date'}, axis = 1)\\\n",
    "        .reset_index(drop = True).drop(['inc_day', 'qty'], axis = 1)\n",
    "    bose_inv = bose_inv.drop_duplicates(subset = ['sku', 'received_date', 'lock_codes'])\n",
    "    df0 = df0.merge(bose_inv, on = ['sku','received_date'], how = 'left')\n",
    "\n",
    "    # may lock\n",
    "    df0['mark'] = df0['mark'].where(df0.iloc[:, 0:8].fillna(0).nunique(axis = 1) > 1, 'may_lock')\n",
    "snapshot()"
   ]
  },
  {
   "cell_type": "code",
   "execution_count": null,
   "metadata": {},
   "outputs": [],
   "source": [
    "def err_part():\n",
    "    \"\"\"\n",
    "    findout who are the naught peach.\n",
    "    err 中干掉了 new 干掉了maylock \n",
    "    \"\"\"\n",
    "    df_err = df0[df0['mark'] != 'new']\n",
    "    # 补充可能被锁的标记\n",
    "    # df_err['mark'] = df_err['mark'].where(df_err.iloc[:, 0:8].fillna(0).nunique(axis = 1) > 1, 'may_lock')\n",
    "    # 干掉了maylock\n",
    "    df_err = df_err[df_err['mark'] != 'may_lock'].sort_values(['sku', 'received_date'])\n",
    "    df_err['change'] = df_err.iloc[:,0:8].diff(axis = 1).sum(axis = 1)\n",
    "    shift = df_err.groupby(['sku', 'wms_warehouse_id']).shift(1) \n",
    "    # q = []\n",
    "    # for i in shift['mark']:\n",
    "    #     if pd.isna(i):\n",
    "    #         q.append('clear')\n",
    "    #     elif i =='clear':\n",
    "    #         q.append('clear')\n",
    "    #     else:\n",
    "    #         q.append('check')\n",
    "    # shift['mark'] = q\n",
    "    # shift['mark2'] = shift.iloc[:,0:8].diff(axis = 1).sum(axis = 1)\n",
    "    shift = shift[['mark','change']]\n",
    "    shift.columns = ['lag_mark', 'lag_change']\n",
    "    shift['lag_mark'] = shift['lag_mark'].where(~shift['lag_mark'].isna(), 'clear')\n",
    "    df_err = pd.concat([df_err, shift], axis = 1)\n",
    "    # df_wrong = df_err[(df_err['lag_mark'] != 'clear') & (df_err['change'] != 0)]\n",
    "    # df_good  = df_err[(df_err['lag_mark'] != 'clear') | (df_err['change'] != 0)]\n",
    "    return df_err\n",
    "df_err = err_part()"
   ]
  },
  {
   "cell_type": "code",
   "execution_count": null,
   "metadata": {},
   "outputs": [],
   "source": [
    "# df_err.to_pickle('./data_up/df_err_bose.p')\n",
    "# df0.to_pickle('./data_up/df0_bose.p')\n",
    "# df_err_bose = pd.read_pickle('./data_up/df_err_bose.p')\n",
    "# df0_bose = pd.read_pickle('./data_up/df0_bose.p')\n",
    "# # df0_bose = df0_bose[df0_bose['wms_warehouse_id'] == 'BOSE_SH']\n",
    "# # df_err_bose = df_err_bose[df_err_bose['wms_warehouse_id'] == 'BOSE_SH']"
   ]
  },
  {
   "cell_type": "code",
   "execution_count": null,
   "metadata": {},
   "outputs": [],
   "source": [
    "\n",
    "def output(df_err, df0):\n",
    "    \"\"\"\n",
    "    筛选lag_mark, \n",
    "    \"\"\"\n",
    "    dishes = list(df_err[(df_err['lag_mark'] != 'clear') \\\n",
    "        & (df_err['change'] < 0)\n",
    "        & (df_err['change'] != df_err['lag_change'])]['sku'].unique())\n",
    "    print(df0['lock_codes'].unique())\n",
    "    return df0[df0['sku'].isin(dishes)]\n",
    "def check(sku, df0):\n",
    "    return df0[df0['sku'].isin(sku)].sort_values(['sku','received_date'])\n",
    "\n",
    "\n",
    "view = output(df_err,df0)\n",
    "\n",
    "def ou_level_lock_codes(lock_code_to_eliminate):\n",
    "    \"\"\"\n",
    "    正则. lock_code \"需要\"被排除的, 依赖view表格. \n",
    "    \"\"\"\n",
    "    # output(df_err_bose,df0_bose)['sku'].unique()\n",
    "    select_none_lock  = pd.DataFrame(\n",
    "        view.groupby('sku')['mark'].apply(list).astype(str).str.contains('may') # may lock?\n",
    "        ).reset_index()\n",
    "    select_none_lock2 = pd.DataFrame(\n",
    "        view.groupby('sku')['lock_codes'].apply(list).astype(str).str.contains(lock_code_to_eliminate)\n",
    "        ).reset_index()\n",
    "    # 去重    \n",
    "    bose_err_list = set(select_none_lock[~select_none_lock['mark']]['sku'].unique())\n",
    "    bose_err_list2 = list(select_none_lock2[~select_none_lock2['lock_codes']]['sku'].unique())\n",
    "    bose_err_list = list(bose_err_list.intersection(bose_err_list2))\n",
    "    bose_err_list = list(set(bose_err_list))\n",
    "    \n",
    "    return bose_err_list\n",
    "\n"
   ]
  },
  {
   "cell_type": "code",
   "execution_count": null,
   "metadata": {},
   "outputs": [],
   "source": [
    "# pd.DataFrame(\n",
    "#         view.groupby('sku')['mark'].apply(list).astype(str).str.contains('may') # may lock?\n",
    "#         ).reset_index()\n",
    "\n",
    "bose_inv['lock_codes'].unique()"
   ]
  },
  {
   "cell_type": "code",
   "execution_count": null,
   "metadata": {},
   "outputs": [],
   "source": [
    "\n",
    "# 1000全新 3000退货 4000破损产品-\n",
    "\n",
    "bose_err_list = ou_level_lock_codes('(QH|QI|27)')\n",
    "bose_definite_wrong = check(bose_err_list, df0)\n",
    "bose_definite_wrong['lock_codes'].unique()\n",
    "    # .to_csv('./data_up/bose_fifo.csv', index = None, encoding = 'utf_8_sig')"
   ]
  },
  {
   "cell_type": "code",
   "execution_count": null,
   "metadata": {},
   "outputs": [],
   "source": []
  },
  {
   "cell_type": "code",
   "execution_count": null,
   "metadata": {},
   "outputs": [],
   "source": []
  },
  {
   "cell_type": "markdown",
   "metadata": {},
   "source": [
    "=================================\n",
    "# HP\n",
    "=================================\n"
   ]
  },
  {
   "cell_type": "code",
   "execution_count": null,
   "metadata": {},
   "outputs": [],
   "source": [
    "%%time\n",
    "# del df0 ,bose_inv\n",
    "bose_inv = load_data('HPI_WH');bose_inv\n",
    "df0 = pd.DataFrame()\n",
    "snapshot()\n",
    "\n",
    "# snapshot()\n",
    "df_err = err_part()"
   ]
  },
  {
   "cell_type": "code",
   "execution_count": null,
   "metadata": {},
   "outputs": [],
   "source": [
    "# df0_hp['lock_codes'].unique()"
   ]
  },
  {
   "cell_type": "code",
   "execution_count": null,
   "metadata": {},
   "outputs": [],
   "source": [
    "df_err.to_pickle('./data_up/df_err_hpwh.p')\n",
    "df0.to_pickle('./data_up/df0_hpwh.p')\n",
    "df_err_hp = pd.read_pickle('./data_up/df_err_hpwh.p')\n",
    "df0_hp = pd.read_pickle('./data_up/df0_hpwh.p')\n"
   ]
  },
  {
   "cell_type": "code",
   "execution_count": null,
   "metadata": {},
   "outputs": [],
   "source": [
    "view = output(df_err_hp, df0_hp)\n",
    "err_list_hp = ou_level_lock_codes('(QH|27)')"
   ]
  },
  {
   "cell_type": "code",
   "execution_count": null,
   "metadata": {},
   "outputs": [],
   "source": [
    "def check(sku, df0):\n",
    "    return df0[df0['sku'].isin(sku)]\n",
    "hp_definite_wrong = check(err_list_hp, df0_hp)\n",
    "\n",
    "# Z7Y79A 问一下\n",
    "# \n",
    "hp_definite_wrong.head(6)"
   ]
  },
  {
   "cell_type": "code",
   "execution_count": null,
   "metadata": {},
   "outputs": [],
   "source": [
    "# hp_definite_wrong[hp_definite_wrong['wms_warehouse_id']=='HPI_WH']"
   ]
  },
  {
   "cell_type": "code",
   "execution_count": null,
   "metadata": {},
   "outputs": [],
   "source": [
    "hp_definite_wrong.to_csv('./data_up/hpwh_fifo.csv', index = None, encoding = 'utf_8_sig')"
   ]
  },
  {
   "cell_type": "code",
   "execution_count": null,
   "metadata": {},
   "outputs": [],
   "source": []
  },
  {
   "cell_type": "code",
   "execution_count": null,
   "metadata": {},
   "outputs": [],
   "source": []
  },
  {
   "cell_type": "code",
   "execution_count": null,
   "metadata": {},
   "outputs": [],
   "source": [
    "# hp_definite_wrong[hp_definite_wrong['sku'] == '1VV21AA']"
   ]
  },
  {
   "cell_type": "code",
   "execution_count": null,
   "metadata": {},
   "outputs": [],
   "source": [
    "hp_definite_wrong.to_csv('./data_up/hpsh_fifo.csv', index = None, encoding = 'utf_8_sig')"
   ]
  },
  {
   "cell_type": "markdown",
   "metadata": {},
   "source": [
    "=================================\n",
    "# michelin\n",
    "=================================\n"
   ]
  },
  {
   "cell_type": "code",
   "execution_count": null,
   "metadata": {},
   "outputs": [],
   "source": [
    "df0 = []\n",
    "bose_inv = []"
   ]
  },
  {
   "cell_type": "code",
   "execution_count": null,
   "metadata": {},
   "outputs": [],
   "source": [
    "df9[df9['wms_warehouse_name'] == 'OE']"
   ]
  },
  {
   "cell_type": "code",
   "execution_count": null,
   "metadata": {},
   "outputs": [],
   "source": [
    "%%time\n",
    "# del df0 ,bose_inv\n",
    "bose_inv = load_data('RT');bose_inv\n",
    "df0 = pd.DataFrame()\n",
    "snapshot()\n",
    "\n",
    "# snapshot()\n",
    "df_err = err_part()"
   ]
  },
  {
   "cell_type": "code",
   "execution_count": null,
   "metadata": {},
   "outputs": [],
   "source": [
    "df_err.to_pickle('./data_up/df_err_michrt.p')\n",
    "df0.to_pickle('./data_up/df0_michrt.p')\n",
    "df_err_mich = pd.read_pickle('./data_up/df_err_michrt.p')\n",
    "df0_mich = pd.read_pickle('./data_up/df0_michrt.p')\n"
   ]
  },
  {
   "cell_type": "code",
   "execution_count": null,
   "metadata": {},
   "outputs": [],
   "source": [
    "output(df0=df0_mich, df_err=df_err_mich).head(3)"
   ]
  },
  {
   "cell_type": "code",
   "execution_count": null,
   "metadata": {},
   "outputs": [],
   "source": [
    "# df0_mich['lock_codes'].str.slice(0,7).unique()"
   ]
  },
  {
   "cell_type": "code",
   "execution_count": null,
   "metadata": {},
   "outputs": [],
   "source": [
    "view = output(df0=df0_mich, df_err=df_err_mich)\n",
    "err_list_mich = ou_level_lock_codes('(BLOCKED_TH|RETURN)')"
   ]
  },
  {
   "cell_type": "code",
   "execution_count": null,
   "metadata": {},
   "outputs": [],
   "source": [
    "def check(sku, df0):\n",
    "    return df0[df0['sku'].isin(sku)]\n",
    "\n",
    "mich_definite_wrong = check(err_list_mich, df0 = df0_mich)\n",
    "\n",
    "# MATMICHELIN00591\n",
    "\n",
    "# 同一时间 received 货物为什么会增加\n",
    "# mich dot date?"
   ]
  },
  {
   "cell_type": "code",
   "execution_count": null,
   "metadata": {},
   "outputs": [],
   "source": [
    "df0_mich[df0_mich['sku'] == '085753_111']"
   ]
  },
  {
   "cell_type": "code",
   "execution_count": null,
   "metadata": {},
   "outputs": [],
   "source": [
    "mich_definite_wrong[mich_definite_wrong['sku'] == '085753_111']"
   ]
  },
  {
   "cell_type": "code",
   "execution_count": null,
   "metadata": {},
   "outputs": [],
   "source": [
    "mich_definite_wrong.to_csv('./data_up/michrt_fifo.csv', index = None, encoding = 'utf_8_sig')"
   ]
  },
  {
   "cell_type": "code",
   "execution_count": null,
   "metadata": {},
   "outputs": [],
   "source": []
  },
  {
   "cell_type": "code",
   "execution_count": null,
   "metadata": {},
   "outputs": [],
   "source": [
    "%%time\n",
    "# del df0 ,bose_inv\n",
    "bose_inv = load_data('OE');bose_inv\n",
    "df0 = pd.DataFrame()\n",
    "snapshot()\n",
    "df_err = err_part()\n",
    "view = output(df0=df0, df_err=df_err)\n",
    "err_list_mich = ou_level_lock_codes('(BLOCKED_TH|RETURN)')\n",
    "def check(sku, df0):\n",
    "    return df0[df0['sku'].isin(sku)]\n",
    "\n",
    "mich_definite_wrong = check(err_list_mich, df0 = df0)\n",
    "\n",
    "mich_definite_wrong.head()"
   ]
  },
  {
   "cell_type": "code",
   "execution_count": null,
   "metadata": {},
   "outputs": [],
   "source": [
    "mich_definite_wrong.to_csv('./data_up/michoe_fifo.csv', index = None, encoding = 'utf_8_sig')"
   ]
  },
  {
   "cell_type": "code",
   "execution_count": null,
   "metadata": {},
   "outputs": [],
   "source": []
  },
  {
   "cell_type": "markdown",
   "metadata": {},
   "source": [
    "==========================\n",
    "# fas <br>\n",
    "=========================="
   ]
  },
  {
   "cell_type": "code",
   "execution_count": null,
   "metadata": {},
   "outputs": [],
   "source": [
    "bose_inv = load_data('FAS') \n",
    "df0 = pd.DataFrame()\n",
    "snapshot()"
   ]
  },
  {
   "cell_type": "code",
   "execution_count": null,
   "metadata": {},
   "outputs": [],
   "source": [
    "df_err = err_part()\n",
    "view = output(df_err, df0)"
   ]
  },
  {
   "cell_type": "code",
   "execution_count": null,
   "metadata": {},
   "outputs": [],
   "source": [
    "bose_inv.head(3)"
   ]
  },
  {
   "cell_type": "code",
   "execution_count": null,
   "metadata": {},
   "outputs": [],
   "source": [
    "err_list_hp = ou_level_lock_codes('(Avi)') \n",
    "bose_inv[bose_inv['sku'] == err_list_hp[0]]"
   ]
  },
  {
   "cell_type": "code",
   "execution_count": null,
   "metadata": {},
   "outputs": [],
   "source": [
    "\n",
    "def check(sku, df0):\n",
    "    return df0[df0['sku'].isin(sku)]\n",
    "hp_definite_wrong = check(err_list_hp, df0)\n",
    "\n",
    "# hp_definite_wrong.head(6)"
   ]
  },
  {
   "cell_type": "code",
   "execution_count": null,
   "metadata": {},
   "outputs": [],
   "source": [
    "hp_definite_wrong.to_csv('./data_up/fas.csv', index = None, encoding = 'utf_8_sig')"
   ]
  },
  {
   "cell_type": "markdown",
   "metadata": {},
   "source": [
    "==========================\n",
    "# part2 <br>\n",
    "=========================="
   ]
  },
  {
   "cell_type": "markdown",
   "metadata": {},
   "source": [
    "**select * from  dsc_dwd.dwd_wh_dsc_inventory_dtl_di \n",
    "where src = 'scale'\n",
    "and  ou_code in(\n",
    "'FERRECDXXS',\n",
    "'APPLESHWHW',\n",
    "'HUSQVSHMFS',\n",
    "'COSTASHHTS',\n",
    "'FUJIXSYXXS',\n",
    "'ZEBRASHALS'\n",
    ")\n",
    "and inc_day in ('20211124', '20211117', '20211110', '20211103', \n",
    "'20211027', '20211020', '20211013','20211006')\n",
    "and usage_flag = '1'**"
   ]
  },
  {
   "cell_type": "code",
   "execution_count": null,
   "metadata": {},
   "outputs": [],
   "source": [
    "%%time\n",
    "df = pd.read_csv('./data_down/inv_7_2.csv', sep='\\001')\n",
    "df.columns = [re.sub('\\w+\\.', '', i) for i in list(df.columns)]\n",
    "df = df.dropna(how = 'all', axis =1)\n",
    "time_cols = pd.Series(df.columns)[pd.Series(df.columns).str.lower().str.findall('date|time').apply(len)>0]\n",
    "df[time_cols] = df[time_cols].apply(lambda x: x.str.slice(0,10))\n",
    "df9 = df"
   ]
  },
  {
   "cell_type": "markdown",
   "metadata": {},
   "source": [
    "## Ferrero"
   ]
  },
  {
   "cell_type": "code",
   "execution_count": null,
   "metadata": {},
   "outputs": [],
   "source": [
    "bose_inv = load_data('FERRECDXXS') \n",
    "df0 = pd.DataFrame()\n",
    "snapshot()\n",
    "df_err = err_part()\n",
    "view = output(df_err, df0)"
   ]
  },
  {
   "cell_type": "code",
   "execution_count": null,
   "metadata": {},
   "outputs": [],
   "source": [
    "err_list_hp = ou_level_lock_codes('Blocked') \n",
    "bose_inv[bose_inv['sku'] == err_list_hp[0]]"
   ]
  },
  {
   "cell_type": "code",
   "execution_count": null,
   "metadata": {},
   "outputs": [],
   "source": [
    "def check(sku, df0):\n",
    "    return df0[df0['sku'].isin(sku)]\n",
    "hp_definite_wrong = check(err_list_hp, df0)\n",
    "\n",
    "# hp_definite_wrong.head(6)"
   ]
  },
  {
   "cell_type": "code",
   "execution_count": null,
   "metadata": {},
   "outputs": [],
   "source": [
    "hp_definite_wrong.to_csv('./data_up/ferrero_FERRECDXXS.csv', index = None, encoding = 'utf_8_sig')"
   ]
  },
  {
   "cell_type": "markdown",
   "metadata": {},
   "source": [
    "## Apple sh"
   ]
  },
  {
   "cell_type": "code",
   "execution_count": null,
   "metadata": {},
   "outputs": [],
   "source": [
    "df.ou_code.unique()"
   ]
  },
  {
   "cell_type": "code",
   "execution_count": null,
   "metadata": {},
   "outputs": [],
   "source": [
    "bose_inv = load_data('APPLESHWHW') \n",
    "df0 = pd.DataFrame()\n",
    "snapshot()\n",
    "df_err = err_part()\n",
    "view = output(df_err, df0)"
   ]
  },
  {
   "cell_type": "code",
   "execution_count": null,
   "metadata": {},
   "outputs": [],
   "source": [
    "err_list_hp"
   ]
  },
  {
   "cell_type": "code",
   "execution_count": null,
   "metadata": {},
   "outputs": [],
   "source": [
    "err_list_hp = ou_level_lock_codes('ttt') \n",
    "# bose_inv[bose_inv['sku'] == err_list_hp[0]]"
   ]
  },
  {
   "cell_type": "code",
   "execution_count": null,
   "metadata": {},
   "outputs": [],
   "source": [
    "def check(sku, df0):\n",
    "    return df0[df0['sku'].isin(sku)]\n",
    "hp_definite_wrong = check(err_list_hp, df0)\n",
    "\n",
    "# hp_definite_wrong.head(6)"
   ]
  },
  {
   "cell_type": "code",
   "execution_count": null,
   "metadata": {},
   "outputs": [],
   "source": [
    "# hp_definite_wrong[hp_definite_wrong['sku'] == '339S00668']"
   ]
  },
  {
   "cell_type": "code",
   "execution_count": null,
   "metadata": {},
   "outputs": [],
   "source": [
    "hp_definite_wrong.to_csv('./data_up/apple_sh_APPLESHWHW.csv', index = None, encoding = 'utf_8_sig')"
   ]
  },
  {
   "cell_type": "markdown",
   "metadata": {},
   "source": [
    "## costa "
   ]
  },
  {
   "cell_type": "code",
   "execution_count": null,
   "metadata": {},
   "outputs": [],
   "source": [
    "bose_inv = load_data('COSTASHHTS') \n",
    "df0 = pd.DataFrame()\n",
    "snapshot()\n",
    "df_err = err_part()\n",
    "view = output(df_err, df0)"
   ]
  },
  {
   "cell_type": "code",
   "execution_count": null,
   "metadata": {},
   "outputs": [],
   "source": [
    "err_list_hp = ou_level_lock_codes('Held') \n",
    "df0[df0['sku'] == err_list_hp[0]]"
   ]
  },
  {
   "cell_type": "code",
   "execution_count": null,
   "metadata": {},
   "outputs": [],
   "source": [
    "def check(sku, df0):\n",
    "    return df0[df0['sku'].isin(sku)]\n",
    "hp_definite_wrong = check(err_list_hp, df0)\n",
    "\n",
    "# hp_definite_wrong.head(6)"
   ]
  },
  {
   "cell_type": "code",
   "execution_count": null,
   "metadata": {},
   "outputs": [],
   "source": [
    "hp_definite_wrong.to_csv('./data_up/costa_COSTASHHTS.csv', index = None, encoding = 'utf_8_sig')"
   ]
  },
  {
   "cell_type": "markdown",
   "metadata": {},
   "source": [
    "## ZEBRASHALS"
   ]
  },
  {
   "cell_type": "code",
   "execution_count": null,
   "metadata": {},
   "outputs": [],
   "source": [
    "bose_inv = load_data('ZEBRASHALS') \n",
    "df0 = pd.DataFrame()\n",
    "snapshot()\n",
    "df_err = err_part()\n",
    "view = output(df_err, df0)"
   ]
  },
  {
   "cell_type": "code",
   "execution_count": null,
   "metadata": {},
   "outputs": [],
   "source": [
    "err_list_hp = ou_level_lock_codes('HOLD1') \n",
    "df0[df0['sku'] == err_list_hp[0]]"
   ]
  },
  {
   "cell_type": "code",
   "execution_count": null,
   "metadata": {},
   "outputs": [],
   "source": [
    "def check(sku, df0):\n",
    "    return df0[df0['sku'].isin(sku)]\n",
    "hp_definite_wrong = check(err_list_hp, df0)\n",
    "\n",
    "hp_definite_wrong.head(6)"
   ]
  },
  {
   "cell_type": "code",
   "execution_count": null,
   "metadata": {},
   "outputs": [],
   "source": [
    "hp_definite_wrong.to_csv('./data_up/zebra_ZEBRASHALS.csv', index = None, encoding = 'utf_8_sig')"
   ]
  }
 ],
 "metadata": {
  "interpreter": {
   "hash": "47b50d2908d96196e4220cfb4e81faa93803065ea975497e7026f672c1f58470"
  },
  "kernelspec": {
   "display_name": "Python 3.8.8 64-bit ('siming': conda)",
   "language": "python",
   "name": "python3"
  },
  "language_info": {
   "codemirror_mode": {
    "name": "ipython",
    "version": 3
   },
   "file_extension": ".py",
   "mimetype": "text/x-python",
   "name": "python",
   "nbconvert_exporter": "python",
   "pygments_lexer": "ipython3",
   "version": "3.8.8"
  },
  "orig_nbformat": 4
 },
 "nbformat": 4,
 "nbformat_minor": 2
}
