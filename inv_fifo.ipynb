{
 "cells": [
  {
   "cell_type": "code",
   "execution_count": null,
   "metadata": {},
   "outputs": [],
   "source": [
    "# -- select * from  dsc_dwd.dwd_wh_dsc_inventory_dtl_di \n",
    "# -- where src = 'scale'\n",
    "# -- and data_source in ('scale_hpi', 'scale_michelin', 'scale_fas', 'scale_bose')\n",
    "# -- and inc_day in ('20211124', '20211117', '20211110', '20211103', \n",
    "# -- '20211027', '20211020', '20211013','20211006')\n",
    "# -- and usage_flag = '1'"
   ]
  },
  {
   "cell_type": "code",
   "execution_count": 1,
   "metadata": {},
   "outputs": [
    {
     "name": "stdout",
     "output_type": "stream",
     "text": [
      "['1223_fifo_2wk.csv', '2week_sum.csv', 'dws_dsc_wh_fifo_alert_wi.csv', 'fifo_out_2w.csv', 'inv_1220.csv', 'inv_7.csv', 'inv_7_2.csv']\n"
     ]
    }
   ],
   "source": [
    "import pandas as pd\n",
    "import numpy as np\n",
    "from datetime import datetime, date, timedelta\n",
    "import re\n",
    "import os\n",
    "import warnings\n",
    "from tqdm import tqdm\n",
    "warnings.filterwarnings(\"ignore\")\n",
    "\n",
    "print(os.listdir('data_down'))"
   ]
  },
  {
   "cell_type": "code",
   "execution_count": 2,
   "metadata": {},
   "outputs": [],
   "source": [
    "\n",
    "def allsundays(year):\n",
    "    return pd.Series(pd.date_range(start=str(year), end=str(year+12), \n",
    "                        freq='2W-WED').strftime('%Y%m%d'))\n",
    "fridays = tuple([i for i in list(allsundays(2021)[allsundays(2021) < date.today().strftime('%Y%m%d')][-8:])])\n",
    "\n"
   ]
  },
  {
   "cell_type": "code",
   "execution_count": 11,
   "metadata": {},
   "outputs": [
    {
     "data": {
      "text/plain": [
       "('20210915',\n",
       " '20210929',\n",
       " '20211013',\n",
       " '20211027',\n",
       " '20211110',\n",
       " '20211124',\n",
       " '20211208',\n",
       " '20211222')"
      ]
     },
     "execution_count": 11,
     "metadata": {},
     "output_type": "execute_result"
    }
   ],
   "source": [
    "fridays"
   ]
  },
  {
   "cell_type": "code",
   "execution_count": 18,
   "metadata": {},
   "outputs": [
    {
     "name": "stdout",
     "output_type": "stream",
     "text": [
      "Wall time: 14.6 s\n"
     ]
    }
   ],
   "source": [
    "%%time\n",
    "df = pd.read_csv('./data_down/inv_7_2.csv', sep='\\001')\n",
    "df.columns = [re.sub('\\w+\\.', '', i) for i in list(df.columns)]\n",
    "df = df.dropna(how = 'all', axis =1)\n",
    "time_cols = pd.Series(df.columns)[\n",
    "    pd.Series(df.columns).str.lower().str.findall('date|time').apply(len)>0\n",
    "    ]\n",
    "df[time_cols] = df[time_cols].apply(lambda x: x.str.slice(0,10))\n",
    "df9 = df\n",
    "from datetime import date, timedelta\n",
    "\n",
    "# sql = \"\"\"\n",
    "#     select * from  dsc_dwd.dwd_wh_dsc_inventory_dtl_di \n",
    "#     where src = 'scale'\n",
    "#     and ou_code in (\n",
    "#     'HPPXXWHWDS', \n",
    "#     'MICHETCTGS'\n",
    "#     'COSTASHHTS',\n",
    "#     'ZEBRASHALS'\n",
    "#     )\n",
    "#     and inc_day in \"\"\"+ str(fridays) + \"\"\"\n",
    "#     and usage_flag = '1'\n",
    "#     \"\"\"\n",
    "# print(sql)"
   ]
  },
  {
   "cell_type": "code",
   "execution_count": 14,
   "metadata": {},
   "outputs": [],
   "source": [
    "# code = ''\n",
    "# df0 = pd.DataFrame()\n",
    "# scan_len = len(df['inc_day'].unique())  # 8\n",
    "# somelen = 8 - scan_len\n",
    "# print([scan_len,somelen])\n",
    "\n",
    "# def load_data(ou_code):\n",
    "#     \"\"\"\n",
    "#     load bose data;\n",
    "#     所有类型的qty都要加起来哦\n",
    "#     只选择有多个收货日期的货物\n",
    "#     \"\"\"\n",
    "#     global code, df, bose_inv, df0\n",
    "#     df0 = pd.DataFrame()\n",
    "#     df = df9\n",
    "#     df = df[df['ou_code'].astype(str) == ou_code]\n",
    "\n",
    "#     def fifo_fefo(df, type):\n",
    "#         if type == 'fifo':\n",
    "#             df['recived_date'] = pd.to_datetime(df['recived_date'])\n",
    "#             df['fifo_fefo'] = 'fifo'\n",
    "#         elif type == 'fefo':\n",
    "#             df['recived_date'] = pd.to_datetime(df['expiration_date'].str.slice(0,10))\n",
    "#             df['fifo_fefo'] = 'fefo'\n",
    "#         else: \n",
    "#             pass\n",
    "#         return df \n",
    "\n",
    "#     if ou_code in {'HPPXXWHWDS', 'HPPXXSHMGS'}:\n",
    "#         # hp wh\n",
    "#         print(\"load_data\", \" 'HPPXXWHWDS', 'HPPXXSHMGS' \")\n",
    "#         code = '(QH|27|QI)'\n",
    "#         df = fifo_fefo(df, 'fifo')\n",
    "\n",
    "#     elif ou_code in {'MICHETCTGS', 'MICHESHXCS'}:\n",
    "#         print(\"load_data\", \" 'MICHETCTGS', 'MICHESHXCS' \")\n",
    "#         df = df[df['expiration_date'] != '4712-12-31']\n",
    "#         # mich tc, rt,m  FEFO\n",
    "#         code = '(BLOCKED_TH|RETURN)'\n",
    "#         print(\"mich_if_if\")\n",
    "#         df = fifo_fefo(df, 'fefo')\n",
    "\n",
    "#     elif ou_code == 'COSTASHHTS':\n",
    "#         # COSTASHHTS expiration_date 没有空值.\n",
    "#         df1 = df[df['expiration_date'] == '4712-12-31'] # fifo @# scale datetime. need redefine when other wms sys/..\n",
    "#         df2 = df[df['expiration_date'] != '4712-12-31'] # fefo\n",
    "#         df1 = fifo_fefo(df1, 'fifo')\n",
    "#         df2 = fifo_fefo(df2, 'fefo')\n",
    "#         df = pd.concat([df1, df2], axis = 0)\n",
    "#         code = '(blocked)'\n",
    "\n",
    "#     elif ou_code == 'SIEMESUEPS':\n",
    "#         pass\n",
    "\n",
    "#     # print(code)\n",
    "    \n",
    "    \n",
    "#     df = df[['wms_company_name', 'wms_warehouse_id','sku_code', 'sku_name', 'sku_desc', 'location',\\\n",
    "#         'lock_codes', 'on_hand_qty', 'in_transit_qty','allocated_qty', 'shelf_days', \n",
    "#         'recived_date','usage_flag', 'fifo_fefo','inc_day', 'ou_code']]\n",
    "#     df['qty'] = df['on_hand_qty']\n",
    "    \n",
    "    \n",
    "#     # 没有重复的 目前看....aaa\n",
    "#     print(\"===============================oucode :: %s=================================\"%df['ou_code'].unique())\n",
    "#     print(df['on_hand_qty'].describe())\n",
    "\n",
    "#     df = df.sort_values(['sku_code', 'recived_date']).groupby(\n",
    "#         ['recived_date', 'sku_code', 'lock_codes','inc_day', 'wms_warehouse_id', 'fifo_fefo'],\n",
    "#         # dropna = False\n",
    "#         ).agg(\n",
    "#     {\n",
    "#         'qty':'sum',\n",
    "#         'location': set\n",
    "#         # ? 这里如果group by location德华会有问题, 列数,miasjdijaisjd\n",
    "#     }\n",
    "#     ).sort_values(['sku_code', 'recived_date']).reset_index()\n",
    "#     # 只选择有多个收货日期的货物\n",
    "#     filter0 = df.groupby(['sku_code'])['recived_date'].agg(\n",
    "#     {\n",
    "#         set\n",
    "#     }\n",
    "#         ).reset_index()\n",
    "\n",
    "#     filter0 = pd.DataFrame(filter0[filter0['set'].apply(len)> 1]['sku_code'].drop_duplicates())\n",
    "#     bose_inv = filter0.merge(df, on = ['sku_code'], how = 'inner')\\\n",
    "#         .sort_values(['recived_date','sku_code', 'inc_day'])\n",
    "#     bose_inv['ou_code'] = ou_code\n",
    "#     print(bose_inv.head())\n",
    "#     return bose_inv, code\n",
    "\n",
    "# def snapshot():\n",
    "#     \"\"\"\n",
    "#     pivot table. inc_day 快照 作为 cols\n",
    "#     添加标记.\n",
    "#     \"\"\"\n",
    "#     global df0, bose_inv\n",
    "#     df0 = pd.DataFrame()\n",
    "#     for i in bose_inv['sku_code'].unique():\n",
    "#         df_out = bose_inv[bose_inv['sku_code'] == i]\\\n",
    "#             .pivot_table(columns='inc_day', index = 'recived_date', values='qty').reset_index()\n",
    "#         df_out['sku_code'] = i\n",
    "#         df0 = pd.concat([df0, df_out], axis = 0)\n",
    "#     try:\n",
    "#         df0.columns = df0.columns.get_level_values(level=1)\n",
    "#     except:\n",
    "#         pass\n",
    "\n",
    "#     if re.search('(\\d+)', str(df0.columns[0])) == None:\n",
    "#         df0.columns = ['received_date', df0.columns[1],  df0.columns[2], 'sku']\n",
    "#         df0 = df0[[df0.columns[1], df0.columns[2], 'received_date', 'sku']]\n",
    "#         print('hah, mutated')\n",
    "#     else:\n",
    "#         print('ha. no need mutations')\n",
    "#         pass\n",
    "\n",
    "#     # if test.columns[0]  == '':\n",
    "#     #     test.columns = ['received_date', test.columns[1],  test.columns[2], 'sku']\n",
    "#     #     test = test[[test.columns[1], test.columns[2], 'received_date', 'sku']]\n",
    "#     # else:\n",
    "#     #     pass\n",
    "#     print(\"snap_df0_column before in snap\", df0.columns, \"len of df0 in snap\", (df0.shape))\n",
    "#     df0 = df0.reset_index(drop = True) # 4 \n",
    "#     print(df0.head())\n",
    "\n",
    "#     # df0 = pd.DataFrame(np.zeros([3, 4]))\n",
    "#     \"\"\"\n",
    "#     添加缺失列\n",
    "#     \"\"\"\n",
    "#     if len(df0.columns) == 10:\n",
    "#         print(list(df0.columns[0:scan_len]))\n",
    "#         df0.columns = list(df0.columns[0:scan_len]) + ['received_date','sku']\n",
    "#         print(\"normal process in snap::%s\"%str(df0.shape))\n",
    "#     else:\n",
    "#         # pass\n",
    "#         print(\"auto fill enabled , ncol is: %s\" %(10 - len(df0.columns)))\n",
    "#         # somelen = 10 - len(df0.columns)\n",
    "#         # df_zero = pd.DataFrame(np.zeros([df0.shape[0], somelen]))\n",
    "#         # df0 = pd.concat([df_zero, df0], axis = 1)\n",
    "#         # df0.columns = list(\n",
    "#         #     np.repeat(0, (somelen))\n",
    "#         #     ) + list(\n",
    "#         #         df0.columns[0:(scan_len)]\n",
    "#         #         ) + ['received_date','sku']\n",
    "#         names = df0.columns[0:2]\n",
    "#         df_zero = pd.DataFrame(df0.iloc[:,0])\n",
    "#         df_zero2 = pd.DataFrame()\n",
    "#         # df_zero. copy()\n",
    "#         for i in range(0,somelen):\n",
    "#             df_zero2 = pd.concat([df_zero2, df_zero], axis = 1)\n",
    "\n",
    "#         print(df_zero2.head())\n",
    "\n",
    "#         df0 = pd.concat([df_zero2, df0], axis = 1)\n",
    "#         print(df0.head())\n",
    "#         df0.columns = list(range(11,11 + somelen)) + list(names) + ['received_date','sku']\n",
    "#     scan_len = 8\n",
    "#     print(df0.head())\n",
    "#     df0 = df0.sort_values(['sku', 'received_date'])\n",
    "#     df0['mark'] = 0\n",
    "#     df0['mark'] = df0['mark'].where(\n",
    "#         df0.iloc[:,  (scan_len - 1)].isna() == False, 'new')\n",
    "#         # df0.iloc[:, 0: (scan_len - 1)].isna().all(axis = 1) == False, 'new')\n",
    "#         # \n",
    "#     df0['mark'] = df0['mark'].where(\n",
    "#         ~df0.iloc[:,(scan_len - 1)].isna() , 'clear')\n",
    "#     # fill na~\n",
    "#     df0 = df0.fillna(0)\n",
    "#     bose_inv = bose_inv.rename({'sku_code':'sku', 'recived_date':'received_date'}, axis = 1)\\\n",
    "#         .reset_index(drop = True).drop(['inc_day', 'qty'], axis = 1)\n",
    "#     bose_inv = bose_inv.drop_duplicates(subset = ['sku', 'received_date', 'lock_codes'])\n",
    "#     df0 = df0.merge(bose_inv, on = ['sku','received_date'], how = 'left')\n",
    "\n",
    "#     # may lock\n",
    "#     df0['mark'] = df0['mark'].where(df0.iloc[:, 0:scan_len].fillna(0).nunique(axis = 1) > 1, 'may_lock')\n",
    "#     print(\"===========================snap!done for : %s=============================\" %df0['ou_code'].unique())\n",
    "#     return df0\n",
    "# # print(\"===============================mid_function_check=================================\")\n",
    "# def err_part():\n",
    "#     \"\"\"\n",
    "#     findout who are the naught peach.\n",
    "#     err 中干掉了 new 干掉了maylock \n",
    "#     \"\"\"\n",
    "#     global df0\n",
    "\n",
    "#     print(\"============================err_part!start: %s============================\"%str(df0.shape))\n",
    "#     scan_len = 8\n",
    "#     df_err = df0[df0['mark'] != 'new']\n",
    "#     # 补充可能被锁的标记\n",
    "#     # df_err['mark'] = df_err['mark'].where(df_err.iloc[:, 0:8].fillna(0).nunique(axis = 1) > 1, 'may_lock')\n",
    "#     # 干掉了maylock\n",
    "#     df_err = df_err[df_err['mark'] != 'may_lock'].sort_values(['sku', 'received_date'])\n",
    "#     # print(\"===============================scan_len_err_function--%s=================================\"%scan_len)\n",
    "#     # print(df_err.iloc[:,0:scan_len])\n",
    "#     df_err['change'] = df_err.iloc[:,0:scan_len].diff(axis = 1).sum(axis = 1)\n",
    "#     shift = df_err.groupby(['sku', 'wms_warehouse_id']).shift(1) \n",
    "#     shift = shift[['mark','change']]\n",
    "#     shift.columns = ['lag_mark', 'lag_change']\n",
    "#     shift['lag_mark'] = shift['lag_mark'].where(~shift['lag_mark'].isna(), 'clear')\n",
    "#     df_err = pd.concat([df_err, shift], axis = 1)\n",
    "#     print(\"===============================err_part!done ::%s=================================\"%str(df_err.shape))\n",
    "#     return df_err\n",
    "\n",
    "# def output(df_err):\n",
    "#     global df0\n",
    "#     print(\"===============================output!start::%s=================================\"%str(df0.shape))\n",
    "\n",
    "#     dishes = list(df_err[(df_err['lag_mark'] != 'clear') \\\n",
    "#         & (df_err['change'] < 0)\n",
    "#         & (df_err['change'] != df_err['lag_change'])]['sku'].unique())\n",
    "#     print(\"===============================output!done::%s=================================\"%str((df0[df0['sku'].isin(dishes)]).shape))\n",
    "\n",
    "#     return df0[df0['sku'].isin(dishes)]\n",
    "\n",
    "# def check(sku):\n",
    "#     global df0\n",
    "#     a = df0[df0['sku'].isin(sku)].sort_values(['sku','received_date'])\n",
    "#     print(\"===============================check!done::%s=================================\"%str(a.shape))\n",
    "\n",
    "#     return a \n",
    "\n",
    "# def ou_level_lock_codes(lock_code_to_eliminate):\n",
    "#     \"\"\"\n",
    "#     正则. lock_code 需要被排除的, 依赖view表格. \n",
    "#     \"\"\" \n",
    "#     print(\"===========================ou_level_lock_codes!start!code :: %s=============================\"%str(code))\n",
    "#     select_none_lock  = pd.DataFrame(\n",
    "#         view.groupby('sku')[\n",
    "#             'mark'\n",
    "#             ].apply(list).astype(str).str.match('.+may')\n",
    "#         ).reset_index()\n",
    "\n",
    "#     select_none_lock2 = pd.DataFrame(\n",
    "#         view.groupby('sku')[\n",
    "#             'lock_codes'\n",
    "#             ].apply(list).astype(str).str.match('.+'+lock_code_to_eliminate)\n",
    "#         ).reset_index()\n",
    "#     # 去重    \n",
    "#     bose_err_list = set(select_none_lock[~select_none_lock['mark']]['sku'].unique())\n",
    "#     bose_err_list2 = list(select_none_lock2[~select_none_lock2['lock_codes']]['sku'].unique())\n",
    "#     bose_err_list = list(bose_err_list.intersection(bose_err_list2))\n",
    "#     bose_err_list = list(set(bose_err_list))\n",
    "#     print(\"===========================ou_level_lock_codes!done :: %s===============================\"%str(bose_err_list))\n",
    "\n",
    "#     return bose_err_list\n",
    "\n",
    "\n",
    "# # def printt(df):\n",
    "# #     print('{note:=>50}'.format(note=\"shape\") + '{note:=>50}'.format(note=df.shape))\n",
    "# #     print(df.info())\n",
    "\n",
    "# # # df.columns\n",
    "\n",
    "# out_df = pd.DataFrame()\n",
    "# for ou_code0 in df9['ou_code'].unique():\n",
    "\n",
    "#     bose_inv = load_data(ou_code0)[0]\n",
    "#     code = load_data(ou_code0)[1]\n",
    "    \n",
    "#     print('{note:=>50}'.format(note=ou_code0) + '{note:=>50}'.format(note=''))\n",
    "#     print(\"===============================this_code: %s=================================\"%ou_code0)\n",
    "#     print(\"===============================this_code_lock_code: %s=================================\"%code)\n",
    "\n",
    "\n",
    "#     print(\"============================boseInv before snap==============================\")\n",
    "#     print(bose_inv.info())\n",
    "\n",
    "#     df0 = snapshot()\n",
    "#     print(df0.info())\n",
    "#     df_err = err_part()\n",
    "\n",
    "#     view = output(df_err)\n",
    "#     bose_err_list = ou_level_lock_codes(code)\n",
    "#     bose_definite_wrong = check(bose_err_list)\n",
    "#     print(\"===============================~definite_wrong~=================================\")\n",
    "#     print(bose_definite_wrong.info())\n",
    "#     out_df = pd.concat([out_df, bose_definite_wrong], axis = 0)\n",
    "#     print(out_df.shape)\n",
    "\n",
    "# print(\"===============================~loop_done~=================================\")\n",
    "# print(out_df.shape)\n",
    "# print(\"===============================~'out_df.columns'~=================================\")\n",
    "# scan_len = 8\n",
    "# out_df['start_week'] = fridays[0]\n",
    "# out_df['end_week'] = fridays[-1]\n",
    "# out_df.columns = [\n",
    "#     str(j) + '_' + str(i) for i,j in enumerate(np.repeat('week', scan_len))\n",
    "#     ] + [\n",
    "#     'received_date','sku','mark','lock_codes',\n",
    "#     'wms_warehouse_id','fifo_fefo','location','ou_code', 'start_of_week', 'end_of_week'\n",
    "# ]\n",
    "# out_df['inc_day'] = df9['inc_day'].max()\n",
    "# out_df['location'] = [','.join(i) for i in out_df['location'] ]\n",
    "# out_df['received_date'] = out_df['received_date'].astype(str)\n"
   ]
  },
  {
   "cell_type": "code",
   "execution_count": 70,
   "metadata": {},
   "outputs": [],
   "source": [
    "# [','.join(i) for i in out_df['location'] ]"
   ]
  },
  {
   "cell_type": "code",
   "execution_count": 13,
   "metadata": {},
   "outputs": [],
   "source": [
    "# out_df[out_df['ou_code'] == 'COSTASHHTS']"
   ]
  },
  {
   "cell_type": "code",
   "execution_count": null,
   "metadata": {},
   "outputs": [],
   "source": [
    "out_df['lock_codes'].unique()"
   ]
  },
  {
   "cell_type": "markdown",
   "metadata": {},
   "source": []
  },
  {
   "cell_type": "markdown",
   "metadata": {},
   "source": []
  },
  {
   "cell_type": "code",
   "execution_count": 27,
   "metadata": {},
   "outputs": [
    {
     "name": "stdout",
     "output_type": "stream",
     "text": [
      "[0, 8]\n"
     ]
    }
   ],
   "source": [
    "code = ''\n",
    "df0 = pd.DataFrame()\n",
    "scan_len = len(df['inc_day'].unique())  # 8\n",
    "somelen = 8 - scan_len\n",
    "print([scan_len,somelen])\n",
    "\n",
    "def load_data(ou_code):\n",
    "    \"\"\"\n",
    "    load bose data;\n",
    "    所有类型的qty都要加起来哦\n",
    "    只选择有多个收货日期的货物\n",
    "    \"\"\"\n",
    "    global code, df, bose_inv, df0\n",
    "    df0 = pd.DataFrame()\n",
    "    df = df9\n",
    "    df = df[df['ou_code'].astype(str) == ou_code]\n",
    "\n",
    "    def fifo_fefo(df, type):\n",
    "        if type == 'fifo':\n",
    "            df['recived_date'] = pd.to_datetime(df['recived_date'])\n",
    "            df['fifo_fefo'] = 'fifo'\n",
    "        elif type == 'fefo':\n",
    "            df['recived_date'] = pd.to_datetime(df['expiration_date'].str.slice(0,10))\n",
    "            df['fifo_fefo'] = 'fefo'\n",
    "        else: \n",
    "            pass\n",
    "        return df \n",
    "\n",
    "    if ou_code in {'HPPXXWHWDS', 'HPPXXSHMGS'}:\n",
    "        # hp wh\n",
    "        print(\"load_data\", \" 'HPPXXWHWDS', 'HPPXXSHMGS' \")\n",
    "        code = '(QH|27|QI)'\n",
    "        df = fifo_fefo(df, 'fifo')\n",
    "\n",
    "    elif ou_code in {'MICHETCTGS', 'MICHESHXCS'}:\n",
    "        print(\"load_data\", \" 'MICHETCTGS', 'MICHESHXCS' \")\n",
    "        df = df[df['expiration_date'] != '4712-12-31']\n",
    "        # mich tc, rt,m  FEFO\n",
    "        code = '(BLOCKED_TH|RETURN)'\n",
    "        print(\"mich_if_if\")\n",
    "        df = fifo_fefo(df, 'fefo')\n",
    "\n",
    "    elif ou_code == 'COSTASHHTS':\n",
    "        # COSTASHHTS expiration_date 没有空值.\n",
    "        df1 = df[df['expiration_date'] == '4712-12-31'] # fifo @# scale datetime. need redefine when other wms sys/..\n",
    "        df2 = df[df['expiration_date'] != '4712-12-31'] # fefo\n",
    "        df1 = fifo_fefo(df1, 'fifo')\n",
    "        df2 = fifo_fefo(df2, 'fefo')\n",
    "        df = pd.concat([df1, df2], axis = 0)\n",
    "        code = '(blocked)'\n",
    "\n",
    "    elif ou_code == 'SIEMESUEPS':\n",
    "        pass\n",
    "\n",
    "    # print(code)\n",
    "    \n",
    "    \n",
    "    df = df[['wms_company_name', 'wms_warehouse_id','sku_code', 'sku_name', 'sku_desc', 'location',\\\n",
    "        'lock_codes', 'on_hand_qty', 'in_transit_qty','allocated_qty', 'shelf_days', \n",
    "        'recived_date','usage_flag', 'fifo_fefo','inc_day', 'ou_code']]\n",
    "    df['qty'] = df['on_hand_qty']\n",
    "    \n",
    "    return df"
   ]
  },
  {
   "cell_type": "code",
   "execution_count": 31,
   "metadata": {},
   "outputs": [
    {
     "data": {
      "text/plain": [
       "0         APPLESHWHW\n",
       "1         APPLESHWHW\n",
       "2         APPLESHWHW\n",
       "3         APPLESHWHW\n",
       "4         APPLESHWHW\n",
       "             ...    \n",
       "405489    ZEBRASHALS\n",
       "405490    ZEBRASHALS\n",
       "405491    ZEBRASHALS\n",
       "405492    ZEBRASHALS\n",
       "405493    ZEBRASHALS\n",
       "Name: ou_code, Length: 405494, dtype: object"
      ]
     },
     "execution_count": 31,
     "metadata": {},
     "output_type": "execute_result"
    }
   ],
   "source": [
    "df9['ou_code']"
   ]
  },
  {
   "cell_type": "code",
   "execution_count": 34,
   "metadata": {},
   "outputs": [
    {
     "data": {
      "text/html": [
       "<div>\n",
       "<style scoped>\n",
       "    .dataframe tbody tr th:only-of-type {\n",
       "        vertical-align: middle;\n",
       "    }\n",
       "\n",
       "    .dataframe tbody tr th {\n",
       "        vertical-align: top;\n",
       "    }\n",
       "\n",
       "    .dataframe thead th {\n",
       "        text-align: right;\n",
       "    }\n",
       "</style>\n",
       "<table border=\"1\" class=\"dataframe\">\n",
       "  <thead>\n",
       "    <tr style=\"text-align: right;\">\n",
       "      <th></th>\n",
       "      <th>wms_company_name</th>\n",
       "      <th>wms_warehouse_id</th>\n",
       "      <th>sku_code</th>\n",
       "      <th>sku_name</th>\n",
       "      <th>sku_desc</th>\n",
       "      <th>location</th>\n",
       "      <th>lock_codes</th>\n",
       "      <th>on_hand_qty</th>\n",
       "      <th>in_transit_qty</th>\n",
       "      <th>allocated_qty</th>\n",
       "      <th>shelf_days</th>\n",
       "      <th>recived_date</th>\n",
       "      <th>usage_flag</th>\n",
       "      <th>fifo_fefo</th>\n",
       "      <th>inc_day</th>\n",
       "      <th>ou_code</th>\n",
       "      <th>qty</th>\n",
       "    </tr>\n",
       "  </thead>\n",
       "  <tbody>\n",
       "    <tr>\n",
       "      <th>20576</th>\n",
       "      <td>CostaCoffee</td>\n",
       "      <td>NaN</td>\n",
       "      <td>COSTA030361</td>\n",
       "      <td>NaN</td>\n",
       "      <td>NaN</td>\n",
       "      <td>b-01-06-02</td>\n",
       "      <td>Held</td>\n",
       "      <td>2.0</td>\n",
       "      <td>0.0</td>\n",
       "      <td>0.0</td>\n",
       "      <td>-538.0</td>\n",
       "      <td>2020-06-05</td>\n",
       "      <td>1</td>\n",
       "      <td>fifo</td>\n",
       "      <td>20211110</td>\n",
       "      <td>COSTASHHTS</td>\n",
       "      <td>2.0</td>\n",
       "    </tr>\n",
       "    <tr>\n",
       "      <th>20577</th>\n",
       "      <td>CostaCoffee</td>\n",
       "      <td>NaN</td>\n",
       "      <td>COSTA030363</td>\n",
       "      <td>NaN</td>\n",
       "      <td>NaN</td>\n",
       "      <td>b-01-09-02</td>\n",
       "      <td>Available</td>\n",
       "      <td>3.0</td>\n",
       "      <td>0.0</td>\n",
       "      <td>0.0</td>\n",
       "      <td>-538.0</td>\n",
       "      <td>2020-06-05</td>\n",
       "      <td>1</td>\n",
       "      <td>fifo</td>\n",
       "      <td>20211110</td>\n",
       "      <td>COSTASHHTS</td>\n",
       "      <td>3.0</td>\n",
       "    </tr>\n",
       "    <tr>\n",
       "      <th>20580</th>\n",
       "      <td>CostaCoffee</td>\n",
       "      <td>COSTA_SH</td>\n",
       "      <td>COSTA030330</td>\n",
       "      <td>NaN</td>\n",
       "      <td>NaN</td>\n",
       "      <td>SHIP-01</td>\n",
       "      <td>Available</td>\n",
       "      <td>0.0</td>\n",
       "      <td>10.0</td>\n",
       "      <td>0.0</td>\n",
       "      <td>-699.0</td>\n",
       "      <td>2019-12-27</td>\n",
       "      <td>1</td>\n",
       "      <td>fifo</td>\n",
       "      <td>20211110</td>\n",
       "      <td>COSTASHHTS</td>\n",
       "      <td>0.0</td>\n",
       "    </tr>\n",
       "    <tr>\n",
       "      <th>20581</th>\n",
       "      <td>CostaCoffee</td>\n",
       "      <td>COSTA_SH</td>\n",
       "      <td>COSTA030349</td>\n",
       "      <td>NaN</td>\n",
       "      <td>NaN</td>\n",
       "      <td>SHIP-01</td>\n",
       "      <td>Available</td>\n",
       "      <td>0.0</td>\n",
       "      <td>15.0</td>\n",
       "      <td>0.0</td>\n",
       "      <td>-602.0</td>\n",
       "      <td>2020-04-02</td>\n",
       "      <td>1</td>\n",
       "      <td>fifo</td>\n",
       "      <td>20211110</td>\n",
       "      <td>COSTASHHTS</td>\n",
       "      <td>0.0</td>\n",
       "    </tr>\n",
       "  </tbody>\n",
       "</table>\n",
       "</div>"
      ],
      "text/plain": [
       "      wms_company_name wms_warehouse_id     sku_code sku_name sku_desc  \\\n",
       "20576      CostaCoffee              NaN  COSTA030361      NaN      NaN   \n",
       "20577      CostaCoffee              NaN  COSTA030363      NaN      NaN   \n",
       "20580      CostaCoffee         COSTA_SH  COSTA030330      NaN      NaN   \n",
       "20581      CostaCoffee         COSTA_SH  COSTA030349      NaN      NaN   \n",
       "\n",
       "         location lock_codes  on_hand_qty  in_transit_qty  allocated_qty  \\\n",
       "20576  b-01-06-02       Held          2.0             0.0            0.0   \n",
       "20577  b-01-09-02  Available          3.0             0.0            0.0   \n",
       "20580     SHIP-01  Available          0.0            10.0            0.0   \n",
       "20581     SHIP-01  Available          0.0            15.0            0.0   \n",
       "\n",
       "       shelf_days recived_date  usage_flag fifo_fefo   inc_day     ou_code  \\\n",
       "20576      -538.0   2020-06-05           1      fifo  20211110  COSTASHHTS   \n",
       "20577      -538.0   2020-06-05           1      fifo  20211110  COSTASHHTS   \n",
       "20580      -699.0   2019-12-27           1      fifo  20211110  COSTASHHTS   \n",
       "20581      -602.0   2020-04-02           1      fifo  20211110  COSTASHHTS   \n",
       "\n",
       "       qty  \n",
       "20576  2.0  \n",
       "20577  3.0  \n",
       "20580  0.0  \n",
       "20581  0.0  "
      ]
     },
     "execution_count": 34,
     "metadata": {},
     "output_type": "execute_result"
    }
   ],
   "source": [
    "# =======================\n",
    "# # 只选择多次出库的货物\n",
    "# filter = bose.groupby(['recived_date', 'sku_code'])['inc_day'].agg({set}).reset_index()\n",
    "# filter = filter[filter['set'].apply(len)> 1][['recived_date','sku_code']].drop_duplicates();filter\n",
    "bose_inv = load_data('COSTASHHTS')\n",
    "bose_inv.head(4)\n"
   ]
  },
  {
   "cell_type": "code",
   "execution_count": 137,
   "metadata": {},
   "outputs": [],
   "source": [
    " \n",
    "    # 没有重复的 目前看....aaa\n",
    "    print(\"===============================oucode :: %s=================================\"%df['ou_code'].unique())\n",
    "    print(df['on_hand_qty'].describe())\n",
    "\n",
    "    df = df.sort_values(['sku_code', 'recived_date']).groupby(\n",
    "        ['recived_date', 'sku_code', 'lock_codes','inc_day', 'wms_warehouse_id', 'fifo_fefo'],\n",
    "        # dropna = False\n",
    "        ).agg(\n",
    "    {\n",
    "        'qty':'sum',\n",
    "        'location': set\n",
    "        # ? 这里如果group by location德华会有问题, 列数,miasjdijaisjd\n",
    "    }\n",
    "    ).sort_values(['sku_code', 'recived_date']).reset_index()\n",
    "    # 只选择有多个收货日期的货物\n",
    "    filter0 = df.groupby(['sku_code'])['recived_date'].agg(\n",
    "    {\n",
    "        set\n",
    "    }\n",
    "        ).reset_index()\n",
    "\n",
    "    # filter0 = pd.DataFrame(filter0[filter0['set'].apply(len)> 1]['sku_code'].drop_duplicates())\n",
    "    bose_inv = filter0.merge(df, on = ['sku_code'], how = 'inner')\\\n",
    "        .sort_values(['recived_date','sku_code', 'inc_day'])\n",
    "    bose_inv['ou_code'] = ou_code\n",
    "    print(bose_inv.head())\n",
    "    return bose_inv, code"
   ]
  },
  {
   "cell_type": "code",
   "execution_count": 174,
   "metadata": {},
   "outputs": [
    {
     "data": {
      "text/plain": [
       "\"('qty', 20211203)\""
      ]
     },
     "execution_count": 174,
     "metadata": {},
     "output_type": "execute_result"
    }
   ],
   "source": [
    "str(df0.columns[0])"
   ]
  },
  {
   "cell_type": "code",
   "execution_count": 188,
   "metadata": {},
   "outputs": [
    {
     "data": {
      "text/plain": [
       "True"
      ]
     },
     "execution_count": 188,
     "metadata": {},
     "output_type": "execute_result"
    }
   ],
   "source": [
    "re.search('(\\d+)', str(test.columns[0])) == None"
   ]
  },
  {
   "cell_type": "code",
   "execution_count": 177,
   "metadata": {},
   "outputs": [],
   "source": [
    "test = df0"
   ]
  },
  {
   "cell_type": "code",
   "execution_count": 182,
   "metadata": {},
   "outputs": [],
   "source": [
    "test = test.reset_index(drop = True) # 4 \n",
    "# df0  = df0.drop('inc_day', axis = 1)"
   ]
  },
  {
   "cell_type": "code",
   "execution_count": 185,
   "metadata": {},
   "outputs": [
    {
     "data": {
      "text/html": [
       "<div>\n",
       "<style scoped>\n",
       "    .dataframe tbody tr th:only-of-type {\n",
       "        vertical-align: middle;\n",
       "    }\n",
       "\n",
       "    .dataframe tbody tr th {\n",
       "        vertical-align: top;\n",
       "    }\n",
       "\n",
       "    .dataframe thead th {\n",
       "        text-align: right;\n",
       "    }\n",
       "</style>\n",
       "<table border=\"1\" class=\"dataframe\">\n",
       "  <thead>\n",
       "    <tr style=\"text-align: right;\">\n",
       "      <th></th>\n",
       "      <th></th>\n",
       "      <th>20211203</th>\n",
       "      <th>20211217</th>\n",
       "      <th></th>\n",
       "    </tr>\n",
       "  </thead>\n",
       "  <tbody>\n",
       "    <tr>\n",
       "      <th>0</th>\n",
       "      <td>137.0</td>\n",
       "      <td>137.0</td>\n",
       "      <td>2015-08-10</td>\n",
       "      <td>COSTA050174</td>\n",
       "    </tr>\n",
       "    <tr>\n",
       "      <th>1</th>\n",
       "      <td>2.0</td>\n",
       "      <td>2.0</td>\n",
       "      <td>2020-07-10</td>\n",
       "      <td>COSTA050174</td>\n",
       "    </tr>\n",
       "    <tr>\n",
       "      <th>2</th>\n",
       "      <td>98.0</td>\n",
       "      <td>98.0</td>\n",
       "      <td>2015-08-10</td>\n",
       "      <td>COSTA050175</td>\n",
       "    </tr>\n",
       "    <tr>\n",
       "      <th>3</th>\n",
       "      <td>2.0</td>\n",
       "      <td>2.0</td>\n",
       "      <td>2020-07-10</td>\n",
       "      <td>COSTA050175</td>\n",
       "    </tr>\n",
       "    <tr>\n",
       "      <th>4</th>\n",
       "      <td>130.0</td>\n",
       "      <td>130.0</td>\n",
       "      <td>2015-08-10</td>\n",
       "      <td>COSTA050206</td>\n",
       "    </tr>\n",
       "    <tr>\n",
       "      <th>...</th>\n",
       "      <td>...</td>\n",
       "      <td>...</td>\n",
       "      <td>...</td>\n",
       "      <td>...</td>\n",
       "    </tr>\n",
       "    <tr>\n",
       "      <th>1371</th>\n",
       "      <td>NaN</td>\n",
       "      <td>16.0</td>\n",
       "      <td>2024-11-18</td>\n",
       "      <td>COSTA050531</td>\n",
       "    </tr>\n",
       "    <tr>\n",
       "      <th>1372</th>\n",
       "      <td>16.0</td>\n",
       "      <td>NaN</td>\n",
       "      <td>2026-03-22</td>\n",
       "      <td>COSTA060236</td>\n",
       "    </tr>\n",
       "    <tr>\n",
       "      <th>1373</th>\n",
       "      <td>396.0</td>\n",
       "      <td>214.0</td>\n",
       "      <td>2026-04-02</td>\n",
       "      <td>COSTA060236</td>\n",
       "    </tr>\n",
       "    <tr>\n",
       "      <th>1374</th>\n",
       "      <td>108.0</td>\n",
       "      <td>144.0</td>\n",
       "      <td>2026-04-06</td>\n",
       "      <td>COSTA060236</td>\n",
       "    </tr>\n",
       "    <tr>\n",
       "      <th>1375</th>\n",
       "      <td>NaN</td>\n",
       "      <td>720.0</td>\n",
       "      <td>2026-04-07</td>\n",
       "      <td>COSTA060236</td>\n",
       "    </tr>\n",
       "  </tbody>\n",
       "</table>\n",
       "<p>1376 rows × 4 columns</p>\n",
       "</div>"
      ],
      "text/plain": [
       "             20211203   20211217             \n",
       "0     137.0     137.0 2015-08-10  COSTA050174\n",
       "1       2.0       2.0 2020-07-10  COSTA050174\n",
       "2      98.0      98.0 2015-08-10  COSTA050175\n",
       "3       2.0       2.0 2020-07-10  COSTA050175\n",
       "4     130.0     130.0 2015-08-10  COSTA050206\n",
       "...     ...       ...        ...          ...\n",
       "1371    NaN      16.0 2024-11-18  COSTA050531\n",
       "1372   16.0       NaN 2026-03-22  COSTA060236\n",
       "1373  396.0     214.0 2026-04-02  COSTA060236\n",
       "1374  108.0     144.0 2026-04-06  COSTA060236\n",
       "1375    NaN     720.0 2026-04-07  COSTA060236\n",
       "\n",
       "[1376 rows x 4 columns]"
      ]
     },
     "execution_count": 185,
     "metadata": {},
     "output_type": "execute_result"
    }
   ],
   "source": [
    "test.columns = [20211203, 20211217, '', 'b']\n",
    "test = test[['',20211203, 20211217,  'b']]\n",
    "test = test.rename({'b':''}, axis =1);test"
   ]
  },
  {
   "cell_type": "code",
   "execution_count": 150,
   "metadata": {},
   "outputs": [
    {
     "data": {
      "text/html": [
       "<div>\n",
       "<style scoped>\n",
       "    .dataframe tbody tr th:only-of-type {\n",
       "        vertical-align: middle;\n",
       "    }\n",
       "\n",
       "    .dataframe tbody tr th {\n",
       "        vertical-align: top;\n",
       "    }\n",
       "\n",
       "    .dataframe thead th {\n",
       "        text-align: right;\n",
       "    }\n",
       "</style>\n",
       "<table border=\"1\" class=\"dataframe\">\n",
       "  <thead>\n",
       "    <tr style=\"text-align: right;\">\n",
       "      <th></th>\n",
       "      <th></th>\n",
       "      <th>20211203</th>\n",
       "      <th>20211217</th>\n",
       "      <th></th>\n",
       "    </tr>\n",
       "  </thead>\n",
       "  <tbody>\n",
       "    <tr>\n",
       "      <th>0</th>\n",
       "      <td>2015-08-10</td>\n",
       "      <td>137.0</td>\n",
       "      <td>137.0</td>\n",
       "      <td>COSTA050174</td>\n",
       "    </tr>\n",
       "    <tr>\n",
       "      <th>1</th>\n",
       "      <td>2020-07-10</td>\n",
       "      <td>2.0</td>\n",
       "      <td>2.0</td>\n",
       "      <td>COSTA050174</td>\n",
       "    </tr>\n",
       "    <tr>\n",
       "      <th>2</th>\n",
       "      <td>2015-08-10</td>\n",
       "      <td>98.0</td>\n",
       "      <td>98.0</td>\n",
       "      <td>COSTA050175</td>\n",
       "    </tr>\n",
       "    <tr>\n",
       "      <th>3</th>\n",
       "      <td>2020-07-10</td>\n",
       "      <td>2.0</td>\n",
       "      <td>2.0</td>\n",
       "      <td>COSTA050175</td>\n",
       "    </tr>\n",
       "    <tr>\n",
       "      <th>4</th>\n",
       "      <td>2015-08-10</td>\n",
       "      <td>130.0</td>\n",
       "      <td>130.0</td>\n",
       "      <td>COSTA050206</td>\n",
       "    </tr>\n",
       "    <tr>\n",
       "      <th>...</th>\n",
       "      <td>...</td>\n",
       "      <td>...</td>\n",
       "      <td>...</td>\n",
       "      <td>...</td>\n",
       "    </tr>\n",
       "    <tr>\n",
       "      <th>1371</th>\n",
       "      <td>2024-11-18</td>\n",
       "      <td>NaN</td>\n",
       "      <td>16.0</td>\n",
       "      <td>COSTA050531</td>\n",
       "    </tr>\n",
       "    <tr>\n",
       "      <th>1372</th>\n",
       "      <td>2026-03-22</td>\n",
       "      <td>16.0</td>\n",
       "      <td>NaN</td>\n",
       "      <td>COSTA060236</td>\n",
       "    </tr>\n",
       "    <tr>\n",
       "      <th>1373</th>\n",
       "      <td>2026-04-02</td>\n",
       "      <td>396.0</td>\n",
       "      <td>214.0</td>\n",
       "      <td>COSTA060236</td>\n",
       "    </tr>\n",
       "    <tr>\n",
       "      <th>1374</th>\n",
       "      <td>2026-04-06</td>\n",
       "      <td>108.0</td>\n",
       "      <td>144.0</td>\n",
       "      <td>COSTA060236</td>\n",
       "    </tr>\n",
       "    <tr>\n",
       "      <th>1375</th>\n",
       "      <td>2026-04-07</td>\n",
       "      <td>NaN</td>\n",
       "      <td>720.0</td>\n",
       "      <td>COSTA060236</td>\n",
       "    </tr>\n",
       "  </tbody>\n",
       "</table>\n",
       "<p>1376 rows × 4 columns</p>\n",
       "</div>"
      ],
      "text/plain": [
       "                 20211203  20211217             \n",
       "0    2015-08-10     137.0     137.0  COSTA050174\n",
       "1    2020-07-10       2.0       2.0  COSTA050174\n",
       "2    2015-08-10      98.0      98.0  COSTA050175\n",
       "3    2020-07-10       2.0       2.0  COSTA050175\n",
       "4    2015-08-10     130.0     130.0  COSTA050206\n",
       "...         ...       ...       ...          ...\n",
       "1371 2024-11-18       NaN      16.0  COSTA050531\n",
       "1372 2026-03-22      16.0       NaN  COSTA060236\n",
       "1373 2026-04-02     396.0     214.0  COSTA060236\n",
       "1374 2026-04-06     108.0     144.0  COSTA060236\n",
       "1375 2026-04-07       NaN     720.0  COSTA060236\n",
       "\n",
       "[1376 rows x 4 columns]"
      ]
     },
     "execution_count": 150,
     "metadata": {},
     "output_type": "execute_result"
    }
   ],
   "source": []
  },
  {
   "cell_type": "code",
   "execution_count": 151,
   "metadata": {},
   "outputs": [],
   "source": [
    "if test.columns[0]  == '':\n",
    "            test.columns = ['received_date', test.columns[1],  test.columns[2], 'sku']\n",
    "            test = test[[test.columns[1], test.columns[2], 'received_date', 'sku']]\n",
    "else:\n",
    "    print('ha. noneed mutations')\n",
    "    pass"
   ]
  },
  {
   "cell_type": "code",
   "execution_count": 152,
   "metadata": {},
   "outputs": [
    {
     "data": {
      "text/html": [
       "<div>\n",
       "<style scoped>\n",
       "    .dataframe tbody tr th:only-of-type {\n",
       "        vertical-align: middle;\n",
       "    }\n",
       "\n",
       "    .dataframe tbody tr th {\n",
       "        vertical-align: top;\n",
       "    }\n",
       "\n",
       "    .dataframe thead th {\n",
       "        text-align: right;\n",
       "    }\n",
       "</style>\n",
       "<table border=\"1\" class=\"dataframe\">\n",
       "  <thead>\n",
       "    <tr style=\"text-align: right;\">\n",
       "      <th></th>\n",
       "      <th>20211203</th>\n",
       "      <th>20211217</th>\n",
       "      <th>received_date</th>\n",
       "      <th>sku</th>\n",
       "    </tr>\n",
       "  </thead>\n",
       "  <tbody>\n",
       "    <tr>\n",
       "      <th>0</th>\n",
       "      <td>137.0</td>\n",
       "      <td>137.0</td>\n",
       "      <td>2015-08-10</td>\n",
       "      <td>COSTA050174</td>\n",
       "    </tr>\n",
       "    <tr>\n",
       "      <th>1</th>\n",
       "      <td>2.0</td>\n",
       "      <td>2.0</td>\n",
       "      <td>2020-07-10</td>\n",
       "      <td>COSTA050174</td>\n",
       "    </tr>\n",
       "    <tr>\n",
       "      <th>2</th>\n",
       "      <td>98.0</td>\n",
       "      <td>98.0</td>\n",
       "      <td>2015-08-10</td>\n",
       "      <td>COSTA050175</td>\n",
       "    </tr>\n",
       "    <tr>\n",
       "      <th>3</th>\n",
       "      <td>2.0</td>\n",
       "      <td>2.0</td>\n",
       "      <td>2020-07-10</td>\n",
       "      <td>COSTA050175</td>\n",
       "    </tr>\n",
       "    <tr>\n",
       "      <th>4</th>\n",
       "      <td>130.0</td>\n",
       "      <td>130.0</td>\n",
       "      <td>2015-08-10</td>\n",
       "      <td>COSTA050206</td>\n",
       "    </tr>\n",
       "    <tr>\n",
       "      <th>...</th>\n",
       "      <td>...</td>\n",
       "      <td>...</td>\n",
       "      <td>...</td>\n",
       "      <td>...</td>\n",
       "    </tr>\n",
       "    <tr>\n",
       "      <th>1371</th>\n",
       "      <td>NaN</td>\n",
       "      <td>16.0</td>\n",
       "      <td>2024-11-18</td>\n",
       "      <td>COSTA050531</td>\n",
       "    </tr>\n",
       "    <tr>\n",
       "      <th>1372</th>\n",
       "      <td>16.0</td>\n",
       "      <td>NaN</td>\n",
       "      <td>2026-03-22</td>\n",
       "      <td>COSTA060236</td>\n",
       "    </tr>\n",
       "    <tr>\n",
       "      <th>1373</th>\n",
       "      <td>396.0</td>\n",
       "      <td>214.0</td>\n",
       "      <td>2026-04-02</td>\n",
       "      <td>COSTA060236</td>\n",
       "    </tr>\n",
       "    <tr>\n",
       "      <th>1374</th>\n",
       "      <td>108.0</td>\n",
       "      <td>144.0</td>\n",
       "      <td>2026-04-06</td>\n",
       "      <td>COSTA060236</td>\n",
       "    </tr>\n",
       "    <tr>\n",
       "      <th>1375</th>\n",
       "      <td>NaN</td>\n",
       "      <td>720.0</td>\n",
       "      <td>2026-04-07</td>\n",
       "      <td>COSTA060236</td>\n",
       "    </tr>\n",
       "  </tbody>\n",
       "</table>\n",
       "<p>1376 rows × 4 columns</p>\n",
       "</div>"
      ],
      "text/plain": [
       "      20211203  20211217 received_date          sku\n",
       "0        137.0     137.0    2015-08-10  COSTA050174\n",
       "1          2.0       2.0    2020-07-10  COSTA050174\n",
       "2         98.0      98.0    2015-08-10  COSTA050175\n",
       "3          2.0       2.0    2020-07-10  COSTA050175\n",
       "4        130.0     130.0    2015-08-10  COSTA050206\n",
       "...        ...       ...           ...          ...\n",
       "1371       NaN      16.0    2024-11-18  COSTA050531\n",
       "1372      16.0       NaN    2026-03-22  COSTA060236\n",
       "1373     396.0     214.0    2026-04-02  COSTA060236\n",
       "1374     108.0     144.0    2026-04-06  COSTA060236\n",
       "1375       NaN     720.0    2026-04-07  COSTA060236\n",
       "\n",
       "[1376 rows x 4 columns]"
      ]
     },
     "execution_count": 152,
     "metadata": {},
     "output_type": "execute_result"
    }
   ],
   "source": [
    "test "
   ]
  },
  {
   "cell_type": "code",
   "execution_count": null,
   "metadata": {},
   "outputs": [],
   "source": [
    "def snapshot():\n",
    "    \"\"\"\n",
    "    pivot table. inc_day 快照 作为 cols\n",
    "    添加标记.\n",
    "    \"\"\"\n",
    "    global df0, bose_inv\n",
    "    df0 = pd.DataFrame()\n",
    "    for i in bose_inv['sku_code'].unique():\n",
    "        df_out = bose_inv[bose_inv['sku_code'] == i]\\\n",
    "            .pivot_table(columns=['inc_day'], index = 'recived_date', values=['qty']).reset_index()\n",
    "        df_out['sku_code'] = i\n",
    "        df0 = pd.concat([df0, df_out], axis = 0)\n",
    "    try:\n",
    "        df0.columns = df0.columns.get_level_values(level=1)\n",
    "    except:\n",
    "        pass\n",
    "    print(\"snap_df0_column before in snap\", df0.columns, \"len of df0 in snap\", (df0.shape))\n",
    "    df0 = df0.reset_index(drop = True) # 4 \n",
    "    # df0 = pd.DataFrame(np.zeros([3, 4]))\n",
    "    \"\"\"\n",
    "    添加缺失列\n",
    "    \"\"\"\n",
    "    if len(df0.columns) == 10:\n",
    "        print(list(df0.columns[0:scan_len]))\n",
    "        df0.columns = list(df0.columns[0:scan_len]) + ['received_date','sku']\n",
    "        print(\"normal process in snap::%s\"%str(df0.shape))\n",
    "    else:\n",
    "        # pass\n",
    "        print(\"auto fill enabled , ncol is: %s\" %(10 - len(df0.columns)))\n",
    "        # somelen = 10 - len(df0.columns)\n",
    "        # df_zero = pd.DataFrame(np.zeros([df0.shape[0], somelen]))\n",
    "        # df0 = pd.concat([df_zero, df0], axis = 1)\n",
    "        # df0.columns = list(\n",
    "        #     np.repeat(0, (somelen))\n",
    "        #     ) + list(\n",
    "        #         df0.columns[0:(scan_len)]\n",
    "        #         ) + ['received_date','sku']\n",
    "        names = df0.columns[0:2]\n",
    "        df_zero = pd.DataFrame(df0.iloc[:,0])\n",
    "        df_zero2 = pd.DataFrame()\n",
    "        # df_zero. copy()\n",
    "        for i in range(0,somelen):\n",
    "            df_zero2 = pd.concat([df_zero2, df_zero], axis = 1)\n",
    "\n",
    "        print(df_zero2.head())\n",
    "\n",
    "        df0 = pd.concat([df_zero2, df0], axis = 1)\n",
    "        print(df0.head())\n",
    "        df0.columns = list(range(11,11 + somelen)) + list(names) + ['received_date','sku']\n",
    "    scan_len = 8\n",
    "    print(df0.head())\n",
    "    df0 = df0.sort_values(['sku', 'received_date'])\n",
    "    df0['mark'] = 0\n",
    "    df0['mark'] = df0['mark'].where(\n",
    "        df0.iloc[:,  (scan_len - 1)].isna() == False, 'new')\n",
    "        # df0.iloc[:, 0: (scan_len - 1)].isna().all(axis = 1) == False, 'new')\n",
    "        # \n",
    "    df0['mark'] = df0['mark'].where(\n",
    "        ~df0.iloc[:,(scan_len - 1)].isna() , 'clear')\n",
    "    # fill na~\n",
    "    df0 = df0.fillna(0)\n",
    "    bose_inv = bose_inv.rename({'sku_code':'sku', 'recived_date':'received_date'}, axis = 1)\\\n",
    "        .reset_index(drop = True).drop(['inc_day', 'qty'], axis = 1)\n",
    "    bose_inv = bose_inv.drop_duplicates(subset = ['sku', 'received_date', 'lock_codes'])\n",
    "    df0 = df0.merge(bose_inv, on = ['sku','received_date'], how = 'left')\n",
    "\n",
    "    # may lock\n",
    "    df0['mark'] = df0['mark'].where(df0.iloc[:, 0:scan_len].fillna(0).nunique(axis = 1) > 1, 'may_lock')\n",
    "    print(\"===========================snap!done for : %s=============================\" %df0['ou_code'].unique())\n",
    "    return df0\n",
    "# print(\"===============================mid_function_check=================================\")\n",
    "def err_part():\n",
    "    \"\"\"\n",
    "    findout who are the naught peach.\n",
    "    err 中干掉了 new 干掉了maylock \n",
    "    \"\"\"\n",
    "    global df0\n",
    "\n",
    "    print(\"============================err_part!start: %s============================\"%str(df0.shape))\n",
    "    scan_len = 8\n",
    "    df_err = df0[df0['mark'] != 'new']\n",
    "    # 补充可能被锁的标记\n",
    "    # df_err['mark'] = df_err['mark'].where(df_err.iloc[:, 0:8].fillna(0).nunique(axis = 1) > 1, 'may_lock')\n",
    "    # 干掉了maylock\n",
    "    df_err = df_err[df_err['mark'] != 'may_lock'].sort_values(['sku', 'received_date'])\n",
    "    # print(\"===============================scan_len_err_function--%s=================================\"%scan_len)\n",
    "    # print(df_err.iloc[:,0:scan_len])\n",
    "    df_err['change'] = df_err.iloc[:,0:scan_len].diff(axis = 1).sum(axis = 1)\n",
    "    shift = df_err.groupby(['sku', 'wms_warehouse_id']).shift(1) \n",
    "    shift = shift[['mark','change']]\n",
    "    shift.columns = ['lag_mark', 'lag_change']\n",
    "    shift['lag_mark'] = shift['lag_mark'].where(~shift['lag_mark'].isna(), 'clear')\n",
    "    df_err = pd.concat([df_err, shift], axis = 1)\n",
    "    print(\"===============================err_part!done ::%s=================================\"%str(df_err.shape))\n",
    "    return df_err\n",
    "\n",
    "def output(df_err):\n",
    "    global df0\n",
    "    print(\"===============================output!start::%s=================================\"%str(df0.shape))\n",
    "\n",
    "    dishes = list(df_err[(df_err['lag_mark'] != 'clear') \\\n",
    "        & (df_err['change'] < 0)\n",
    "        & (df_err['change'] != df_err['lag_change'])]['sku'].unique())\n",
    "    print(\"===============================output!done::%s=================================\"%str((df0[df0['sku'].isin(dishes)]).shape))\n",
    "\n",
    "    return df0[df0['sku'].isin(dishes)]\n",
    "\n",
    "def check(sku):\n",
    "    global df0\n",
    "    a = df0[df0['sku'].isin(sku)].sort_values(['sku','received_date'])\n",
    "    print(\"===============================check!done::%s=================================\"%str(a.shape))\n",
    "\n",
    "    return a \n",
    "\n",
    "def ou_level_lock_codes(lock_code_to_eliminate):\n",
    "    \"\"\"\n",
    "    正则. lock_code 需要被排除的, 依赖view表格. \n",
    "    \"\"\" \n",
    "    print(\"===========================ou_level_lock_codes!start!code :: %s=============================\"%str(code))\n",
    "    select_none_lock  = pd.DataFrame(\n",
    "        view.groupby('sku')[\n",
    "            'mark'\n",
    "            ].apply(list).astype(str).str.match('.+may')\n",
    "        ).reset_index()\n",
    "\n",
    "    select_none_lock2 = pd.DataFrame(\n",
    "        view.groupby('sku')[\n",
    "            'lock_codes'\n",
    "            ].apply(list).astype(str).str.match('.+'+lock_code_to_eliminate)\n",
    "        ).reset_index()\n",
    "    # 去重    \n",
    "    bose_err_list = set(select_none_lock[~select_none_lock['mark']]['sku'].unique())\n",
    "    bose_err_list2 = list(select_none_lock2[~select_none_lock2['lock_codes']]['sku'].unique())\n",
    "    bose_err_list = list(bose_err_list.intersection(bose_err_list2))\n",
    "    bose_err_list = list(set(bose_err_list))\n",
    "    print(\"===========================ou_level_lock_codes!done :: %s===============================\"%str(bose_err_list))\n",
    "\n",
    "    return bose_err_list\n"
   ]
  },
  {
   "cell_type": "code",
   "execution_count": null,
   "metadata": {},
   "outputs": [],
   "source": [
    "def err_part():\n",
    "    \"\"\"\n",
    "    findout who are the naught peach.\n",
    "    err 中干掉了 new 干掉了maylock \n",
    "    \"\"\"\n",
    "    df_err = df0[df0['mark'] != 'new']\n",
    "    # 补充可能被锁的标记\n",
    "    # df_err['mark'] = df_err['mark'].where(df_err.iloc[:, 0:8].fillna(0).nunique(axis = 1) > 1, 'may_lock')\n",
    "    # 干掉了maylock\n",
    "    df_err = df_err[df_err['mark'] != 'may_lock'].sort_values(['sku', 'received_date'])\n",
    "    df_err['change'] = df_err.iloc[:,0:8].diff(axis = 1).sum(axis = 1)\n",
    "    shift = df_err.groupby(['sku', 'wms_warehouse_id']).shift(1) \n",
    "    # q = []\n",
    "    # for i in shift['mark']:\n",
    "    #     if pd.isna(i):\n",
    "    #         q.append('clear')\n",
    "    #     elif i =='clear':\n",
    "    #         q.append('clear')\n",
    "    #     else:\n",
    "    #         q.append('check')\n",
    "    # shift['mark'] = q\n",
    "    # shift['mark2'] = shift.iloc[:,0:8].diff(axis = 1).sum(axis = 1)\n",
    "    shift = shift[['mark','change']]\n",
    "    shift.columns = ['lag_mark', 'lag_change']\n",
    "    shift['lag_mark'] = shift['lag_mark'].where(~shift['lag_mark'].isna(), 'clear')\n",
    "    df_err = pd.concat([df_err, shift], axis = 1)\n",
    "    # df_wrong = df_err[(df_err['lag_mark'] != 'clear') & (df_err['change'] != 0)]\n",
    "    # df_good  = df_err[(df_err['lag_mark'] != 'clear') | (df_err['change'] != 0)]\n",
    "    return df_err\n",
    "df_err = err_part()"
   ]
  },
  {
   "cell_type": "code",
   "execution_count": null,
   "metadata": {},
   "outputs": [],
   "source": [
    "# df_err.to_pickle('./data_up/df_err_bose.p')\n",
    "# df0.to_pickle('./data_up/df0_bose.p')\n",
    "# df_err_bose = pd.read_pickle('./data_up/df_err_bose.p')\n",
    "# df0_bose = pd.read_pickle('./data_up/df0_bose.p')\n",
    "# # df0_bose = df0_bose[df0_bose['wms_warehouse_id'] == 'BOSE_SH']\n",
    "# # df_err_bose = df_err_bose[df_err_bose['wms_warehouse_id'] == 'BOSE_SH']"
   ]
  },
  {
   "cell_type": "code",
   "execution_count": null,
   "metadata": {},
   "outputs": [],
   "source": [
    "\n",
    "def output(df_err, df0):\n",
    "    \"\"\"\n",
    "    筛选lag_mark, \n",
    "    \"\"\"\n",
    "    dishes = list(df_err[(df_err['lag_mark'] != 'clear') \\\n",
    "        & (df_err['change'] < 0)\n",
    "        & (df_err['change'] != df_err['lag_change'])]['sku'].unique())\n",
    "    print(df0['lock_codes'].unique())\n",
    "    return df0[df0['sku'].isin(dishes)]\n",
    "def check(sku, df0):\n",
    "    return df0[df0['sku'].isin(sku)].sort_values(['sku','received_date'])\n",
    "\n",
    "\n",
    "view = output(df_err,df0)\n",
    "\n",
    "def ou_level_lock_codes(lock_code_to_eliminate):\n",
    "    \"\"\"\n",
    "    正则. lock_code \"需要\"被排除的, 依赖view表格. \n",
    "    \"\"\"\n",
    "    # output(df_err_bose,df0_bose)['sku'].unique()\n",
    "    select_none_lock  = pd.DataFrame(\n",
    "        view.groupby('sku')['mark'].apply(list).astype(str).str.contains('may') # may lock?\n",
    "        ).reset_index()\n",
    "    select_none_lock2 = pd.DataFrame(\n",
    "        view.groupby('sku')['lock_codes'].apply(list).astype(str).str.contains(lock_code_to_eliminate)\n",
    "        ).reset_index()\n",
    "    # 去重    \n",
    "    bose_err_list = set(select_none_lock[~select_none_lock['mark']]['sku'].unique())\n",
    "    bose_err_list2 = list(select_none_lock2[~select_none_lock2['lock_codes']]['sku'].unique())\n",
    "    bose_err_list = list(bose_err_list.intersection(bose_err_list2))\n",
    "    bose_err_list = list(set(bose_err_list))\n",
    "    \n",
    "    return bose_err_list\n",
    "\n"
   ]
  },
  {
   "cell_type": "code",
   "execution_count": null,
   "metadata": {},
   "outputs": [],
   "source": [
    "# pd.DataFrame(\n",
    "#         view.groupby('sku')['mark'].apply(list).astype(str).str.contains('may') # may lock?\n",
    "#         ).reset_index()\n",
    "\n",
    "bose_inv['lock_codes'].unique()"
   ]
  },
  {
   "cell_type": "code",
   "execution_count": null,
   "metadata": {},
   "outputs": [],
   "source": [
    "\n",
    "# 1000全新 3000退货 4000破损产品-\n",
    "\n",
    "bose_err_list = ou_level_lock_codes('(QH|QI|27)')\n",
    "bose_definite_wrong = check(bose_err_list, df0)\n",
    "bose_definite_wrong['lock_codes'].unique()\n",
    "    # .to_csv('./data_up/bose_fifo.csv', index = None, encoding = 'utf_8_sig')"
   ]
  },
  {
   "cell_type": "code",
   "execution_count": null,
   "metadata": {},
   "outputs": [],
   "source": []
  },
  {
   "cell_type": "code",
   "execution_count": null,
   "metadata": {},
   "outputs": [],
   "source": []
  },
  {
   "cell_type": "markdown",
   "metadata": {},
   "source": [
    "=================================\n",
    "# HP\n",
    "=================================\n"
   ]
  },
  {
   "cell_type": "code",
   "execution_count": null,
   "metadata": {},
   "outputs": [],
   "source": [
    "%%time\n",
    "# del df0 ,bose_inv\n",
    "bose_inv = load_data('HPI_WH');bose_inv\n",
    "df0 = pd.DataFrame()\n",
    "snapshot()\n",
    "\n",
    "# snapshot()\n",
    "df_err = err_part()"
   ]
  },
  {
   "cell_type": "code",
   "execution_count": null,
   "metadata": {},
   "outputs": [],
   "source": [
    "# df0_hp['lock_codes'].unique()"
   ]
  },
  {
   "cell_type": "code",
   "execution_count": null,
   "metadata": {},
   "outputs": [],
   "source": [
    "df_err.to_pickle('./data_up/df_err_hpwh.p')\n",
    "df0.to_pickle('./data_up/df0_hpwh.p')\n",
    "df_err_hp = pd.read_pickle('./data_up/df_err_hpwh.p')\n",
    "df0_hp = pd.read_pickle('./data_up/df0_hpwh.p')\n"
   ]
  },
  {
   "cell_type": "code",
   "execution_count": null,
   "metadata": {},
   "outputs": [],
   "source": [
    "view = output(df_err_hp, df0_hp)\n",
    "err_list_hp = ou_level_lock_codes('(QH|27)')"
   ]
  },
  {
   "cell_type": "code",
   "execution_count": null,
   "metadata": {},
   "outputs": [],
   "source": [
    "def check(sku, df0):\n",
    "    return df0[df0['sku'].isin(sku)]\n",
    "hp_definite_wrong = check(err_list_hp, df0_hp)\n",
    "\n",
    "# Z7Y79A 问一下\n",
    "# \n",
    "hp_definite_wrong.head(6)"
   ]
  },
  {
   "cell_type": "code",
   "execution_count": null,
   "metadata": {},
   "outputs": [],
   "source": [
    "# hp_definite_wrong[hp_definite_wrong['wms_warehouse_id']=='HPI_WH']"
   ]
  },
  {
   "cell_type": "code",
   "execution_count": null,
   "metadata": {},
   "outputs": [],
   "source": [
    "hp_definite_wrong.to_csv('./data_up/hpwh_fifo.csv', index = None, encoding = 'utf_8_sig')"
   ]
  },
  {
   "cell_type": "code",
   "execution_count": null,
   "metadata": {},
   "outputs": [],
   "source": []
  },
  {
   "cell_type": "code",
   "execution_count": null,
   "metadata": {},
   "outputs": [],
   "source": []
  },
  {
   "cell_type": "code",
   "execution_count": null,
   "metadata": {},
   "outputs": [],
   "source": [
    "# hp_definite_wrong[hp_definite_wrong['sku'] == '1VV21AA']"
   ]
  },
  {
   "cell_type": "code",
   "execution_count": null,
   "metadata": {},
   "outputs": [],
   "source": [
    "hp_definite_wrong.to_csv('./data_up/hpsh_fifo.csv', index = None, encoding = 'utf_8_sig')"
   ]
  },
  {
   "cell_type": "markdown",
   "metadata": {},
   "source": [
    "=================================\n",
    "# michelin\n",
    "=================================\n"
   ]
  },
  {
   "cell_type": "code",
   "execution_count": null,
   "metadata": {},
   "outputs": [],
   "source": [
    "df0 = []\n",
    "bose_inv = []"
   ]
  },
  {
   "cell_type": "code",
   "execution_count": null,
   "metadata": {},
   "outputs": [],
   "source": [
    "df9[df9['wms_warehouse_name'] == 'OE']"
   ]
  },
  {
   "cell_type": "code",
   "execution_count": null,
   "metadata": {},
   "outputs": [],
   "source": [
    "%%time\n",
    "# del df0 ,bose_inv\n",
    "bose_inv = load_data('RT');bose_inv\n",
    "df0 = pd.DataFrame()\n",
    "snapshot()\n",
    "\n",
    "# snapshot()\n",
    "df_err = err_part()"
   ]
  },
  {
   "cell_type": "code",
   "execution_count": null,
   "metadata": {},
   "outputs": [],
   "source": [
    "df_err.to_pickle('./data_up/df_err_michrt.p')\n",
    "df0.to_pickle('./data_up/df0_michrt.p')\n",
    "df_err_mich = pd.read_pickle('./data_up/df_err_michrt.p')\n",
    "df0_mich = pd.read_pickle('./data_up/df0_michrt.p')\n"
   ]
  },
  {
   "cell_type": "code",
   "execution_count": null,
   "metadata": {},
   "outputs": [],
   "source": [
    "output(df0=df0_mich, df_err=df_err_mich).head(3)"
   ]
  },
  {
   "cell_type": "code",
   "execution_count": null,
   "metadata": {},
   "outputs": [],
   "source": [
    "# df0_mich['lock_codes'].str.slice(0,7).unique()"
   ]
  },
  {
   "cell_type": "code",
   "execution_count": null,
   "metadata": {},
   "outputs": [],
   "source": [
    "view = output(df0=df0_mich, df_err=df_err_mich)\n",
    "err_list_mich = ou_level_lock_codes('(BLOCKED_TH|RETURN)')"
   ]
  },
  {
   "cell_type": "code",
   "execution_count": null,
   "metadata": {},
   "outputs": [],
   "source": [
    "def check(sku, df0):\n",
    "    return df0[df0['sku'].isin(sku)]\n",
    "\n",
    "mich_definite_wrong = check(err_list_mich, df0 = df0_mich)\n",
    "\n",
    "# MATMICHELIN00591\n",
    "\n",
    "# 同一时间 received 货物为什么会增加\n",
    "# mich dot date?"
   ]
  },
  {
   "cell_type": "code",
   "execution_count": null,
   "metadata": {},
   "outputs": [],
   "source": [
    "df0_mich[df0_mich['sku'] == '085753_111']"
   ]
  },
  {
   "cell_type": "code",
   "execution_count": null,
   "metadata": {},
   "outputs": [],
   "source": [
    "mich_definite_wrong[mich_definite_wrong['sku'] == '085753_111']"
   ]
  },
  {
   "cell_type": "code",
   "execution_count": null,
   "metadata": {},
   "outputs": [],
   "source": [
    "mich_definite_wrong.to_csv('./data_up/michrt_fifo.csv', index = None, encoding = 'utf_8_sig')"
   ]
  },
  {
   "cell_type": "code",
   "execution_count": null,
   "metadata": {},
   "outputs": [],
   "source": []
  },
  {
   "cell_type": "code",
   "execution_count": null,
   "metadata": {},
   "outputs": [],
   "source": [
    "%%time\n",
    "# del df0 ,bose_inv\n",
    "bose_inv = load_data('OE');bose_inv\n",
    "df0 = pd.DataFrame()\n",
    "snapshot()\n",
    "df_err = err_part()\n",
    "view = output(df0=df0, df_err=df_err)\n",
    "err_list_mich = ou_level_lock_codes('(BLOCKED_TH|RETURN)')\n",
    "def check(sku, df0):\n",
    "    return df0[df0['sku'].isin(sku)]\n",
    "\n",
    "mich_definite_wrong = check(err_list_mich, df0 = df0)\n",
    "\n",
    "mich_definite_wrong.head()"
   ]
  },
  {
   "cell_type": "code",
   "execution_count": null,
   "metadata": {},
   "outputs": [],
   "source": [
    "mich_definite_wrong.to_csv('./data_up/michoe_fifo.csv', index = None, encoding = 'utf_8_sig')"
   ]
  },
  {
   "cell_type": "code",
   "execution_count": null,
   "metadata": {},
   "outputs": [],
   "source": []
  },
  {
   "cell_type": "markdown",
   "metadata": {},
   "source": [
    "==========================\n",
    "# fas <br>\n",
    "=========================="
   ]
  },
  {
   "cell_type": "code",
   "execution_count": null,
   "metadata": {},
   "outputs": [],
   "source": [
    "bose_inv = load_data('FAS') \n",
    "df0 = pd.DataFrame()\n",
    "snapshot()"
   ]
  },
  {
   "cell_type": "code",
   "execution_count": null,
   "metadata": {},
   "outputs": [],
   "source": [
    "df_err = err_part()\n",
    "view = output(df_err, df0)"
   ]
  },
  {
   "cell_type": "code",
   "execution_count": null,
   "metadata": {},
   "outputs": [],
   "source": [
    "bose_inv.head(3)"
   ]
  },
  {
   "cell_type": "code",
   "execution_count": null,
   "metadata": {},
   "outputs": [],
   "source": [
    "err_list_hp = ou_level_lock_codes('(Avi)') \n",
    "bose_inv[bose_inv['sku'] == err_list_hp[0]]"
   ]
  },
  {
   "cell_type": "code",
   "execution_count": null,
   "metadata": {},
   "outputs": [],
   "source": [
    "\n",
    "def check(sku, df0):\n",
    "    return df0[df0['sku'].isin(sku)]\n",
    "hp_definite_wrong = check(err_list_hp, df0)\n",
    "\n",
    "# hp_definite_wrong.head(6)"
   ]
  },
  {
   "cell_type": "code",
   "execution_count": null,
   "metadata": {},
   "outputs": [],
   "source": [
    "hp_definite_wrong.to_csv('./data_up/fas.csv', index = None, encoding = 'utf_8_sig')"
   ]
  },
  {
   "cell_type": "markdown",
   "metadata": {},
   "source": [
    "==========================\n",
    "# part2 <br>\n",
    "=========================="
   ]
  },
  {
   "cell_type": "markdown",
   "metadata": {},
   "source": [
    "**select * from  dsc_dwd.dwd_wh_dsc_inventory_dtl_di \n",
    "where src = 'scale'\n",
    "and  ou_code in(\n",
    "'FERRECDXXS',\n",
    "'APPLESHWHW',\n",
    "'HUSQVSHMFS',\n",
    "'COSTASHHTS',\n",
    "'FUJIXSYXXS',\n",
    "'ZEBRASHALS'\n",
    ")\n",
    "and inc_day in ('20211124', '20211117', '20211110', '20211103', \n",
    "'20211027', '20211020', '20211013','20211006')\n",
    "and usage_flag = '1'**"
   ]
  },
  {
   "cell_type": "code",
   "execution_count": null,
   "metadata": {},
   "outputs": [],
   "source": [
    "%%time\n",
    "df = pd.read_csv('./data_down/inv_7_2.csv', sep='\\001')\n",
    "df.columns = [re.sub('\\w+\\.', '', i) for i in list(df.columns)]\n",
    "df = df.dropna(how = 'all', axis =1)\n",
    "time_cols = pd.Series(df.columns)[pd.Series(df.columns).str.lower().str.findall('date|time').apply(len)>0]\n",
    "df[time_cols] = df[time_cols].apply(lambda x: x.str.slice(0,10))\n",
    "df9 = df"
   ]
  },
  {
   "cell_type": "markdown",
   "metadata": {},
   "source": [
    "## Ferrero"
   ]
  },
  {
   "cell_type": "code",
   "execution_count": null,
   "metadata": {},
   "outputs": [],
   "source": [
    "bose_inv = load_data('FERRECDXXS') \n",
    "df0 = pd.DataFrame()\n",
    "snapshot()\n",
    "df_err = err_part()\n",
    "view = output(df_err, df0)"
   ]
  },
  {
   "cell_type": "code",
   "execution_count": null,
   "metadata": {},
   "outputs": [],
   "source": [
    "err_list_hp = ou_level_lock_codes('Blocked') \n",
    "bose_inv[bose_inv['sku'] == err_list_hp[0]]"
   ]
  },
  {
   "cell_type": "code",
   "execution_count": null,
   "metadata": {},
   "outputs": [],
   "source": [
    "def check(sku, df0):\n",
    "    return df0[df0['sku'].isin(sku)]\n",
    "hp_definite_wrong = check(err_list_hp, df0)\n",
    "\n",
    "# hp_definite_wrong.head(6)"
   ]
  },
  {
   "cell_type": "code",
   "execution_count": null,
   "metadata": {},
   "outputs": [],
   "source": [
    "hp_definite_wrong.to_csv('./data_up/ferrero_FERRECDXXS.csv', index = None, encoding = 'utf_8_sig')"
   ]
  },
  {
   "cell_type": "markdown",
   "metadata": {},
   "source": [
    "## Apple sh"
   ]
  },
  {
   "cell_type": "code",
   "execution_count": null,
   "metadata": {},
   "outputs": [],
   "source": [
    "df.ou_code.unique()"
   ]
  },
  {
   "cell_type": "code",
   "execution_count": null,
   "metadata": {},
   "outputs": [],
   "source": [
    "bose_inv = load_data('APPLESHWHW') \n",
    "df0 = pd.DataFrame()\n",
    "snapshot()\n",
    "df_err = err_part()\n",
    "view = output(df_err, df0)"
   ]
  },
  {
   "cell_type": "code",
   "execution_count": null,
   "metadata": {},
   "outputs": [],
   "source": [
    "err_list_hp"
   ]
  },
  {
   "cell_type": "code",
   "execution_count": null,
   "metadata": {},
   "outputs": [],
   "source": [
    "err_list_hp = ou_level_lock_codes('ttt') \n",
    "# bose_inv[bose_inv['sku'] == err_list_hp[0]]"
   ]
  },
  {
   "cell_type": "code",
   "execution_count": null,
   "metadata": {},
   "outputs": [],
   "source": [
    "def check(sku, df0):\n",
    "    return df0[df0['sku'].isin(sku)]\n",
    "hp_definite_wrong = check(err_list_hp, df0)\n",
    "\n",
    "# hp_definite_wrong.head(6)"
   ]
  },
  {
   "cell_type": "code",
   "execution_count": null,
   "metadata": {},
   "outputs": [],
   "source": [
    "# hp_definite_wrong[hp_definite_wrong['sku'] == '339S00668']"
   ]
  },
  {
   "cell_type": "code",
   "execution_count": null,
   "metadata": {},
   "outputs": [],
   "source": [
    "hp_definite_wrong.to_csv('./data_up/apple_sh_APPLESHWHW.csv', index = None, encoding = 'utf_8_sig')"
   ]
  },
  {
   "cell_type": "markdown",
   "metadata": {},
   "source": [
    "## costa "
   ]
  },
  {
   "cell_type": "code",
   "execution_count": null,
   "metadata": {},
   "outputs": [],
   "source": [
    "bose_inv = load_data('COSTASHHTS') \n",
    "df0 = pd.DataFrame()\n",
    "snapshot()\n",
    "df_err = err_part()\n",
    "view = output(df_err, df0)"
   ]
  },
  {
   "cell_type": "code",
   "execution_count": null,
   "metadata": {},
   "outputs": [],
   "source": [
    "err_list_hp = ou_level_lock_codes('Held') \n",
    "df0[df0['sku'] == err_list_hp[0]]"
   ]
  },
  {
   "cell_type": "code",
   "execution_count": null,
   "metadata": {},
   "outputs": [],
   "source": [
    "def check(sku, df0):\n",
    "    return df0[df0['sku'].isin(sku)]\n",
    "hp_definite_wrong = check(err_list_hp, df0)\n",
    "\n",
    "# hp_definite_wrong.head(6)"
   ]
  },
  {
   "cell_type": "code",
   "execution_count": null,
   "metadata": {},
   "outputs": [],
   "source": [
    "hp_definite_wrong.to_csv('./data_up/costa_COSTASHHTS.csv', index = None, encoding = 'utf_8_sig')"
   ]
  },
  {
   "cell_type": "markdown",
   "metadata": {},
   "source": [
    "## ZEBRASHALS"
   ]
  },
  {
   "cell_type": "code",
   "execution_count": null,
   "metadata": {},
   "outputs": [],
   "source": [
    "bose_inv = load_data('ZEBRASHALS') \n",
    "df0 = pd.DataFrame()\n",
    "snapshot()\n",
    "df_err = err_part()\n",
    "view = output(df_err, df0)"
   ]
  },
  {
   "cell_type": "code",
   "execution_count": null,
   "metadata": {},
   "outputs": [],
   "source": [
    "err_list_hp = ou_level_lock_codes('HOLD1') \n",
    "df0[df0['sku'] == err_list_hp[0]]"
   ]
  },
  {
   "cell_type": "code",
   "execution_count": null,
   "metadata": {},
   "outputs": [],
   "source": [
    "def check(sku, df0):\n",
    "    return df0[df0['sku'].isin(sku)]\n",
    "hp_definite_wrong = check(err_list_hp, df0)\n",
    "\n",
    "hp_definite_wrong.head(6)"
   ]
  },
  {
   "cell_type": "code",
   "execution_count": null,
   "metadata": {},
   "outputs": [],
   "source": [
    "hp_definite_wrong.to_csv('./data_up/zebra_ZEBRASHALS.csv', index = None, encoding = 'utf_8_sig')"
   ]
  }
 ],
 "metadata": {
  "interpreter": {
   "hash": "47b50d2908d96196e4220cfb4e81faa93803065ea975497e7026f672c1f58470"
  },
  "kernelspec": {
   "display_name": "Python 3.8.8 64-bit ('siming': conda)",
   "language": "python",
   "name": "python3"
  },
  "language_info": {
   "codemirror_mode": {
    "name": "ipython",
    "version": 3
   },
   "file_extension": ".py",
   "mimetype": "text/x-python",
   "name": "python",
   "nbconvert_exporter": "python",
   "pygments_lexer": "ipython3",
   "version": "3.8.8"
  },
  "orig_nbformat": 4
 },
 "nbformat": 4,
 "nbformat_minor": 2
}
