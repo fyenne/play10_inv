{
 "cells": [
  {
   "cell_type": "code",
   "execution_count": null,
   "metadata": {},
   "outputs": [],
   "source": [
    "# -- select * from  dsc_dwd.dwd_wh_dsc_inventory_dtl_di \n",
    "# -- where src = 'scale'\n",
    "# -- and data_source in ('scale_hpi', 'scale_michelin', 'scale_fas', 'scale_bose')\n",
    "# -- and inc_day in ('20211124', '20211117', '20211110', '20211103', \n",
    "# -- '20211027', '20211020', '20211013','20211006')\n",
    "# -- and usage_flag = '1'"
   ]
  },
  {
   "cell_type": "code",
   "execution_count": 1,
   "metadata": {},
   "outputs": [
    {
     "name": "stdout",
     "output_type": "stream",
     "text": [
      "['inv_1220.csv', 'inv_7.csv', 'inv_7_2.csv']\n"
     ]
    }
   ],
   "source": [
    "import pandas as pd\n",
    "import numpy as np\n",
    "from datetime import datetime, date, timedelta\n",
    "import re\n",
    "import os\n",
    "import warnings\n",
    "from tqdm import tqdm\n",
    "warnings.filterwarnings(\"ignore\")\n",
    "\n",
    "print(os.listdir('data_down'))"
   ]
  },
  {
   "cell_type": "code",
   "execution_count": 50,
   "metadata": {},
   "outputs": [],
   "source": [
    "\n",
    "def allsundays(year):\n",
    "    return pd.Series(pd.date_range(start=str(year), end=str(year+12), \n",
    "                        freq='2W-TUE').strftime('%Y%m%d'))\n",
    "fridays = tuple([i for i in list(allsundays(2021)[allsundays(2021) < date.today().strftime('%Y%m%d')][-8:])])\n",
    "\n"
   ]
  },
  {
   "cell_type": "code",
   "execution_count": 51,
   "metadata": {},
   "outputs": [
    {
     "data": {
      "text/plain": [
       "('20210914',\n",
       " '20210928',\n",
       " '20211012',\n",
       " '20211026',\n",
       " '20211109',\n",
       " '20211123',\n",
       " '20211207',\n",
       " '20211221')"
      ]
     },
     "execution_count": 51,
     "metadata": {},
     "output_type": "execute_result"
    }
   ],
   "source": [
    "fridays"
   ]
  },
  {
   "cell_type": "code",
   "execution_count": 17,
   "metadata": {},
   "outputs": [
    {
     "name": "stdout",
     "output_type": "stream",
     "text": [
      "Wall time: 1.72 s\n"
     ]
    }
   ],
   "source": [
    "%%time\n",
    "df = pd.read_csv('./data_down/inv_1220.csv', sep='\\001')\n",
    "df.columns = [re.sub('\\w+\\.', '', i) for i in list(df.columns)]\n",
    "df = df.dropna(how = 'all', axis =1)\n",
    "time_cols = pd.Series(df.columns)[pd.Series(df.columns).str.lower().str.findall('date|time').apply(len)>0]\n",
    "df[time_cols] = df[time_cols].apply(lambda x: x.str.slice(0,10))\n",
    "df9 = df\n",
    "\n",
    "from datetime import date, timedelta\n",
    "\n",
    "# sql = \"\"\"\n",
    "#     select * from  dsc_dwd.dwd_wh_dsc_inventory_dtl_di \n",
    "#     where src = 'scale'\n",
    "#     and ou_code in (\n",
    "#     'HPPXXWHWDS', \n",
    "#     'MICHETCTGS'\n",
    "#     'COSTASHHTS',\n",
    "#     'ZEBRASHALS'\n",
    "#     )\n",
    "#     and inc_day in \"\"\"+ str(fridays) + \"\"\"\n",
    "#     and usage_flag = '1'\n",
    "#     \"\"\"\n",
    "# print(sql)"
   ]
  },
  {
   "cell_type": "code",
   "execution_count": 28,
   "metadata": {},
   "outputs": [
    {
     "data": {
      "text/plain": [
       "True"
      ]
     },
     "execution_count": 28,
     "metadata": {},
     "output_type": "execute_result"
    }
   ],
   "source": [
    "# df['ou_code'] in {'MICHETCTGS', 'HPPXXWHWDS'}\n",
    "'HPPXXWHWDS' in {'MICHETCTGS', 'HPPXXWHWDS'}"
   ]
  },
  {
   "cell_type": "code",
   "execution_count": 45,
   "metadata": {},
   "outputs": [],
   "source": [
    "code = ''\n",
    "df0 = pd.DataFrame()\n",
    "scan_len = len(df['inc_day'].unique())  \n",
    "\n",
    "def load_data(ou_code):\n",
    "    \"\"\"\n",
    "    load bose data;\n",
    "    所有类型的qty都要加起来哦\n",
    "    只选择有多个收货日期的货物\n",
    "    \"\"\"\n",
    "    global code, df, bose_inv, df0\n",
    "    df0 = pd.DataFrame()\n",
    "    df = df9\n",
    "    df = df[df['ou_code'].astype(str) == ou_code]\n",
    "\n",
    "    def fifo_fefo(df, type):\n",
    "        if type == 'fifo':\n",
    "            df['recived_date'] = pd.to_datetime(df['recived_date'])\n",
    "            df['fifo_fefo'] = 'fifo'\n",
    "        elif type == 'fefo':\n",
    "            df['recived_date'] = pd.to_datetime(df['expiration_date'].str.slice(0,10))\n",
    "            df['fifo_fefo'] = 'fefo'\n",
    "        else: \n",
    "            pass\n",
    "        return df \n",
    "\n",
    "    if ou_code in {'HPPXXWHWDS', 'HPPXXSHMGS'}:\n",
    "        # hp wh\n",
    "        code = '(QH|27|QI)'\n",
    "        df = fifo_fefo(df, 'fifo')\n",
    "\n",
    "    elif ou_code in {'MICHETCTGS', 'MICHESHXCS'}:\n",
    "        df = df[df['expiration_date'] != '4712-12-31']\n",
    "        # mich tc, rt,m  FEFO\n",
    "        code = '(BLOCKED_TH|RETURN)'\n",
    "        df = fifo_fefo(df, 'fefo')\n",
    "\n",
    "    elif ou_code == 'COSTASHHTS':\n",
    "        # COSTASHHTS expiration_date 没有空值.\n",
    "        df1 = df[df['expiration_date'] == '4712-12-31'] # fifo @# scale datetime. need redefine when other wms sys/..\n",
    "        df2 = df[df['expiration_date'] != '4712-12-31'] # fefo\n",
    "        df1 = fifo_fefo(df1, 'fifo')\n",
    "        df2 = fifo_fefo(df2, 'fefo')\n",
    "        df = pd.concat([df1, df2], axis = 0)\n",
    "        code = '(blocked)'\n",
    "\n",
    "    elif ou_code == 'SIEMESUEPS':\n",
    "        pass\n",
    "\n",
    "    # print(code)\n",
    "    \n",
    "    \n",
    "    df = df[['wms_company_name', 'wms_warehouse_id','sku_code', 'sku_name', 'sku_desc', 'location',\\\n",
    "        'lock_codes', 'on_hand_qty', 'in_transit_qty','allocated_qty', 'shelf_days', \n",
    "        'recived_date','usage_flag', 'fifo_fefo','inc_day', 'ou_code']]\n",
    "    df['qty'] = df['on_hand_qty']\n",
    "    \n",
    "    \n",
    "    # 没有重复的 目前看....aaa\n",
    "    print(\"===============================oucode :: %s=================================\"%df['ou_code'].unique())\n",
    "    print(df['on_hand_qty'].describe())\n",
    "\n",
    "    df = df.groupby(\n",
    "        ['recived_date', 'sku_code', 'lock_codes','inc_day', 'wms_warehouse_id', 'fifo_fefo'],\n",
    "        # dropna = False\n",
    "        ).agg(\n",
    "    {\n",
    "        'qty':'sum',\n",
    "        'location': set\n",
    "    }\n",
    "    ).sort_values(['sku_code', 'recived_date']).reset_index()\n",
    "    # 只选择有多个收货日期的货物\n",
    "    filter0 = df.groupby(['sku_code'])['recived_date'].agg(\n",
    "    {\n",
    "        set\n",
    "    }\n",
    "        ).reset_index()\n",
    "\n",
    "    filter0 = pd.DataFrame(filter0[filter0['set'].apply(len)> 1]['sku_code'].drop_duplicates())\n",
    "    bose_inv = filter0.merge(df, on = ['sku_code'], how = 'inner')\\\n",
    "        .sort_values(['recived_date','sku_code', 'inc_day'])\n",
    "    bose_inv['ou_code'] = ou_code\n",
    "    print(bose_inv.head())\n",
    "    return bose_inv\n",
    "\n",
    "def snapshot():\n",
    "    \"\"\"\n",
    "    pivot table. inc_day 快照 作为 cols\n",
    "    添加标记.\n",
    "    \"\"\"\n",
    "    global df0, bose_inv\n",
    "    df0 = pd.DataFrame()\n",
    "    for i in bose_inv['sku_code'].unique():\n",
    "        df_out = bose_inv[bose_inv['sku_code'] == i]\\\n",
    "            .pivot_table(columns=['inc_day'], index = 'recived_date', values=['qty']).reset_index()\n",
    "        df_out['sku_code'] = i\n",
    "        df0 = pd.concat([df0, df_out], axis = 0)\n",
    "    try:\n",
    "        df0.columns = df0.columns.get_level_values(level=1)\n",
    "    except:\n",
    "        pass\n",
    "    \n",
    "    df0.columns = list(df0.columns[0:scan_len]) + ['received_date','sku']\n",
    "    df0 = df0.sort_values(['sku', 'received_date'])\n",
    "    df0['mark'] = 0\n",
    "    \n",
    "    df0['mark'] = df0['mark'].where(\n",
    "        df0.iloc[:, 0: (scan_len - 1)].isna().all(axis = 1) == False, 'new')\n",
    "    df0['mark'] = df0['mark'].where(\n",
    "        ~df0.iloc[:,(scan_len - 1)].isna() , 'clear')\n",
    "    # fill na~\n",
    "    df0 = df0.fillna(0)\n",
    "    bose_inv = bose_inv.rename({'sku_code':'sku', 'recived_date':'received_date'}, axis = 1)\\\n",
    "        .reset_index(drop = True).drop(['inc_day', 'qty'], axis = 1)\n",
    "    bose_inv = bose_inv.drop_duplicates(subset = ['sku', 'received_date', 'lock_codes'])\n",
    "    df0 = df0.merge(bose_inv, on = ['sku','received_date'], how = 'left')\n",
    "\n",
    "    # may lock\n",
    "    df0['mark'] = df0['mark'].where(df0.iloc[:, 0:scan_len].fillna(0).nunique(axis = 1) > 1, 'may_lock')\n",
    "    print(\"===============================snap!done for : %s=================================\" %df0['ou_code'].unique())\n",
    "\n",
    "# print(\"===============================mid_function_check=================================\")\n",
    "def err_part():\n",
    "    \"\"\"\n",
    "    findout who are the naught peach.\n",
    "    err 中干掉了 new 干掉了maylock \n",
    "    \"\"\"\n",
    "    global df0\n",
    "    print(\"===============================err_part!start: %s=================================\"%df0.info())\n",
    "    \n",
    "    df_err = df0[df0['mark'] != 'new']\n",
    "    # 补充可能被锁的标记\n",
    "    # df_err['mark'] = df_err['mark'].where(df_err.iloc[:, 0:8].fillna(0).nunique(axis = 1) > 1, 'may_lock')\n",
    "    # 干掉了maylock\n",
    "    df_err = df_err[df_err['mark'] != 'may_lock'].sort_values(['sku', 'received_date'])\n",
    "    # print(\"===============================scan_len_err_function--%s=================================\"%scan_len)\n",
    "    # print(df_err.iloc[:,0:scan_len])\n",
    "    df_err['change'] = df_err.iloc[:,0:scan_len].diff(axis = 1).sum(axis = 1)\n",
    "    shift = df_err.groupby(['sku', 'wms_warehouse_id']).shift(1) \n",
    "    shift = shift[['mark','change']]\n",
    "    shift.columns = ['lag_mark', 'lag_change']\n",
    "    shift['lag_mark'] = shift['lag_mark'].where(~shift['lag_mark'].isna(), 'clear')\n",
    "    df_err = pd.concat([df_err, shift], axis = 1)\n",
    "    print(\"===============================err_part!done=================================\")\n",
    "\n",
    "    return df_err\n",
    "\n",
    "def output(df_err):\n",
    "    global df0\n",
    "    print(\"===============================output!start=================================\")\n",
    "\n",
    "    dishes = list(df_err[(df_err['lag_mark'] != 'clear') \\\n",
    "        & (df_err['change'] < 0)\n",
    "        & (df_err['change'] != df_err['lag_change'])]['sku'].unique())\n",
    "    print(\"===============================output!done=================================\")\n",
    "\n",
    "    return df0[df0['sku'].isin(dishes)]\n",
    "\n",
    "def check(sku ):\n",
    "    a = df0[df0['sku'].isin(sku)].sort_values(['sku','received_date'])\n",
    "    print(\"===============================check!done=================================\")\n",
    "\n",
    "    return a \n",
    "\n",
    "def ou_level_lock_codes(lock_code_to_eliminate):\n",
    "    \"\"\"\n",
    "    正则. lock_code 需要被排除的, 依赖view表格. \n",
    "    \"\"\" \n",
    "    \n",
    "    select_none_lock  = pd.DataFrame(\n",
    "        view.groupby('sku')[\n",
    "            'mark'\n",
    "            ].apply(list).astype(str).str.match('.+may')\n",
    "        ).reset_index()\n",
    "\n",
    "    select_none_lock2 = pd.DataFrame(\n",
    "        view.groupby('sku')[\n",
    "            'lock_codes'\n",
    "            ].apply(list).astype(str).str.match('.+'+lock_code_to_eliminate)\n",
    "        ).reset_index()\n",
    "    # 去重    \n",
    "    bose_err_list = set(select_none_lock[~select_none_lock['mark']]['sku'].unique())\n",
    "    bose_err_list2 = list(select_none_lock2[~select_none_lock2['lock_codes']]['sku'].unique())\n",
    "    bose_err_list = list(bose_err_list.intersection(bose_err_list2))\n",
    "    bose_err_list = list(set(bose_err_list))\n",
    "    print(\"===============================ou_level_lock_codes!done=================================\")\n",
    "\n",
    "    return bose_err_list\n"
   ]
  },
  {
   "cell_type": "code",
   "execution_count": 36,
   "metadata": {},
   "outputs": [],
   "source": [
    "# # bose_inv = load_data('COSTASHHTS');bose_inv\n",
    "# # snapshot()\n",
    "# for i in df9['ou_code'].unique():\n",
    "#     if i in {'s', 'HPPssXXWHWDS', 'MICHETCTGS'}:\n",
    "#         print(0)\n",
    "#     else :\n",
    "#         pass"
   ]
  },
  {
   "cell_type": "code",
   "execution_count": 47,
   "metadata": {},
   "outputs": [
    {
     "name": "stdout",
     "output_type": "stream",
     "text": [
      "===============================oucode :: ['COSTASHHTS']=================================\n",
      "count     8921.000000\n",
      "mean       268.981372\n",
      "std       1284.248128\n",
      "min          0.000000\n",
      "25%          4.000000\n",
      "50%         22.000000\n",
      "75%        141.000000\n",
      "max      44235.000000\n",
      "Name: on_hand_qty, dtype: float64\n",
      "         sku_code recived_date lock_codes   inc_day wms_warehouse_id  \\\n",
      "1688  COSTA050174   2015-08-10  Available  20211203         COSTA_SH   \n",
      "1689  COSTA050174   2015-08-10  Available  20211210         COSTA_SH   \n",
      "1690  COSTA050174   2015-08-10  Available  20211217         COSTA_SH   \n",
      "1694  COSTA050175   2015-08-10  Available  20211203         COSTA_SH   \n",
      "1695  COSTA050175   2015-08-10  Available  20211210         COSTA_SH   \n",
      "\n",
      "     fifo_fefo    qty      location     ou_code  \n",
      "1688      fifo  137.0  {D-06-36-03}  COSTASHHTS  \n",
      "1689      fifo  137.0  {D-06-36-03}  COSTASHHTS  \n",
      "1690      fifo  137.0  {D-06-36-03}  COSTASHHTS  \n",
      "1694      fifo   98.0  {D-06-36-03}  COSTASHHTS  \n",
      "1695      fifo   98.0  {D-06-36-03}  COSTASHHTS  \n",
      "========================================COSTASHHTS==================================================\n",
      "===============================this_code: (blocked)=================================\n",
      "===============================boseInv before snap=================================\n",
      "<class 'pandas.core.frame.DataFrame'>\n",
      "Int64Index: 3664 entries, 1688 to 2718\n",
      "Data columns (total 9 columns):\n",
      " #   Column            Non-Null Count  Dtype         \n",
      "---  ------            --------------  -----         \n",
      " 0   sku_code          3664 non-null   object        \n",
      " 1   recived_date      3664 non-null   datetime64[ns]\n",
      " 2   lock_codes        3664 non-null   object        \n",
      " 3   inc_day           3664 non-null   int64         \n",
      " 4   wms_warehouse_id  3664 non-null   object        \n",
      " 5   fifo_fefo         3664 non-null   object        \n",
      " 6   qty               3664 non-null   float64       \n",
      " 7   location          3664 non-null   object        \n",
      " 8   ou_code           3664 non-null   object        \n",
      "dtypes: datetime64[ns](1), float64(1), int64(1), object(6)\n",
      "memory usage: 286.2+ KB\n",
      "None\n",
      "===============================snap!done for : ['COSTASHHTS']=================================\n",
      "=================================================~\n",
      "<class 'pandas.core.frame.DataFrame'>\n",
      "Int64Index: 1395 entries, 0 to 1394\n",
      "Data columns (total 11 columns):\n",
      " #   Column            Non-Null Count  Dtype         \n",
      "---  ------            --------------  -----         \n",
      " 0   20211203          1395 non-null   float64       \n",
      " 1   20211210          1395 non-null   float64       \n",
      " 2   20211217          1395 non-null   float64       \n",
      " 3   received_date     1395 non-null   datetime64[ns]\n",
      " 4   sku               1395 non-null   object        \n",
      " 5   mark              1395 non-null   object        \n",
      " 6   lock_codes        1395 non-null   object        \n",
      " 7   wms_warehouse_id  1395 non-null   object        \n",
      " 8   fifo_fefo         1395 non-null   object        \n",
      " 9   location          1395 non-null   object        \n",
      " 10  ou_code           1395 non-null   object        \n",
      "dtypes: datetime64[ns](1), float64(3), object(7)\n",
      "memory usage: 130.8+ KB\n",
      "===============================err_part!start: None=================================\n",
      "===============================err_part!done=================================\n",
      "=================================================~\n",
      "===============================output!start=================================\n",
      "===============================output!done=================================\n",
      "===============================ou_level_lock_codes!done=================================\n",
      "===============================check!done=================================\n",
      "===============================oucode :: ['HPPXXWHWDS']=================================\n",
      "count    15349.000000\n",
      "mean        40.023454\n",
      "std         97.963254\n",
      "min          1.000000\n",
      "25%         20.000000\n",
      "50%         20.000000\n",
      "75%         32.000000\n",
      "max       6720.000000\n",
      "Name: on_hand_qty, dtype: float64\n",
      "       sku_code recived_date lock_codes   inc_day wms_warehouse_id fifo_fefo  \\\n",
      "410  5NL12A#AB2   2021-06-03    1002-34  20211203           HPI_WH      fifo   \n",
      "411  5NL12A#AB2   2021-06-03    1002-34  20211210           HPI_WH      fifo   \n",
      "412  5NL12A#AB2   2021-06-03    1002-34  20211217           HPI_WH      fifo   \n",
      "516  7PS99A#AB2   2021-06-03    1002-34  20211203           HPI_WH      fifo   \n",
      "517  7PS99A#AB2   2021-06-03    1002-34  20211210           HPI_WH      fifo   \n",
      "\n",
      "      qty                                           location     ou_code  \n",
      "410   5.0                                        {C-03-11-4}  HPPXXWHWDS  \n",
      "411   5.0                                        {C-03-11-4}  HPPXXWHWDS  \n",
      "412   5.0                                        {C-03-11-4}  HPPXXWHWDS  \n",
      "516  15.0  {B-16-07-1, B-16-08-1, B-16-09-1, B-16-10-1, B...  HPPXXWHWDS  \n",
      "517  15.0  {B-16-07-1, B-16-08-1, B-16-09-1, B-16-10-1, B...  HPPXXWHWDS  \n",
      "========================================HPPXXWHWDS==================================================\n",
      "===============================this_code: (QH|27|QI)=================================\n",
      "===============================boseInv before snap=================================\n",
      "<class 'pandas.core.frame.DataFrame'>\n",
      "Int64Index: 2057 entries, 410 to 1694\n",
      "Data columns (total 9 columns):\n",
      " #   Column            Non-Null Count  Dtype         \n",
      "---  ------            --------------  -----         \n",
      " 0   sku_code          2057 non-null   object        \n",
      " 1   recived_date      2057 non-null   datetime64[ns]\n",
      " 2   lock_codes        2057 non-null   object        \n",
      " 3   inc_day           2057 non-null   int64         \n",
      " 4   wms_warehouse_id  2057 non-null   object        \n",
      " 5   fifo_fefo         2057 non-null   object        \n",
      " 6   qty               2057 non-null   float64       \n",
      " 7   location          2057 non-null   object        \n",
      " 8   ou_code           2057 non-null   object        \n",
      "dtypes: datetime64[ns](1), float64(1), int64(1), object(6)\n",
      "memory usage: 160.7+ KB\n",
      "None\n",
      "===============================snap!done for : ['HPPXXWHWDS']=================================\n",
      "=================================================~\n",
      "<class 'pandas.core.frame.DataFrame'>\n",
      "Int64Index: 980 entries, 0 to 979\n",
      "Data columns (total 11 columns):\n",
      " #   Column            Non-Null Count  Dtype         \n",
      "---  ------            --------------  -----         \n",
      " 0   20211203          980 non-null    float64       \n",
      " 1   20211210          980 non-null    float64       \n",
      " 2   20211217          980 non-null    float64       \n",
      " 3   received_date     980 non-null    datetime64[ns]\n",
      " 4   sku               980 non-null    object        \n",
      " 5   mark              980 non-null    object        \n",
      " 6   lock_codes        980 non-null    object        \n",
      " 7   wms_warehouse_id  980 non-null    object        \n",
      " 8   fifo_fefo         980 non-null    object        \n",
      " 9   location          980 non-null    object        \n",
      " 10  ou_code           980 non-null    object        \n",
      "dtypes: datetime64[ns](1), float64(3), object(7)\n",
      "memory usage: 91.9+ KB\n",
      "===============================err_part!start: None=================================\n",
      "===============================err_part!done=================================\n",
      "=================================================~\n",
      "===============================output!start=================================\n",
      "===============================output!done=================================\n",
      "===============================ou_level_lock_codes!done=================================\n",
      "===============================check!done=================================\n",
      "===============================oucode :: ['MICHETCTGS']=================================\n",
      "count    18276.000000\n",
      "mean        76.067645\n",
      "std        169.392867\n",
      "min          0.000000\n",
      "25%          2.000000\n",
      "50%         14.000000\n",
      "75%         50.000000\n",
      "max       2125.000000\n",
      "Name: on_hand_qty, dtype: float64\n",
      "        sku_code recived_date     lock_codes   inc_day wms_warehouse_id  \\\n",
      "3786  575769_90A   2019-10-01  RETURN_IM-1IM  20211203               RT   \n",
      "3787  575769_90A   2019-10-01  RETURN_IM-1IM  20211210               RT   \n",
      "3788  575769_90A   2019-10-01  RETURN_IM-1IM  20211217               RT   \n",
      "686   110069_101   2020-07-01  ONHAND_IM-1IM  20211203               RT   \n",
      "687   110069_101   2020-07-01  ONHAND_IM-1IM  20211210               RT   \n",
      "\n",
      "     fifo_fefo  qty    location     ou_code  \n",
      "3786      fefo  1.0  {NC-IM-07}  MICHETCTGS  \n",
      "3787      fefo  1.0  {NC-IM-07}  MICHETCTGS  \n",
      "3788      fefo  1.0  {NC-IM-07}  MICHETCTGS  \n",
      "686       fefo  3.0   {E-25-20}  MICHETCTGS  \n",
      "687       fefo  3.0   {E-25-20}  MICHETCTGS  \n",
      "========================================MICHETCTGS==================================================\n",
      "===============================this_code: (BLOCKED_TH|RETURN)=================================\n",
      "===============================boseInv before snap=================================\n",
      "<class 'pandas.core.frame.DataFrame'>\n",
      "Int64Index: 6081 entries, 3786 to 3270\n",
      "Data columns (total 9 columns):\n",
      " #   Column            Non-Null Count  Dtype         \n",
      "---  ------            --------------  -----         \n",
      " 0   sku_code          6081 non-null   object        \n",
      " 1   recived_date      6081 non-null   datetime64[ns]\n",
      " 2   lock_codes        6081 non-null   object        \n",
      " 3   inc_day           6081 non-null   int64         \n",
      " 4   wms_warehouse_id  6081 non-null   object        \n",
      " 5   fifo_fefo         6081 non-null   object        \n",
      " 6   qty               6081 non-null   float64       \n",
      " 7   location          6081 non-null   object        \n",
      " 8   ou_code           6081 non-null   object        \n",
      "dtypes: datetime64[ns](1), float64(1), int64(1), object(6)\n",
      "memory usage: 475.1+ KB\n",
      "None\n",
      "===============================snap!done for : ['MICHETCTGS']=================================\n",
      "=================================================~\n",
      "<class 'pandas.core.frame.DataFrame'>\n",
      "Int64Index: 2384 entries, 0 to 2383\n",
      "Data columns (total 11 columns):\n",
      " #   Column            Non-Null Count  Dtype         \n",
      "---  ------            --------------  -----         \n",
      " 0   20211203          2384 non-null   float64       \n",
      " 1   20211210          2384 non-null   float64       \n",
      " 2   20211217          2384 non-null   float64       \n",
      " 3   received_date     2384 non-null   datetime64[ns]\n",
      " 4   sku               2384 non-null   object        \n",
      " 5   mark              2384 non-null   object        \n",
      " 6   lock_codes        2384 non-null   object        \n",
      " 7   wms_warehouse_id  2384 non-null   object        \n",
      " 8   fifo_fefo         2384 non-null   object        \n",
      " 9   location          2384 non-null   object        \n",
      " 10  ou_code           2384 non-null   object        \n",
      "dtypes: datetime64[ns](1), float64(3), object(7)\n",
      "memory usage: 223.5+ KB\n",
      "===============================err_part!start: None=================================\n",
      "===============================err_part!done=================================\n",
      "=================================================~\n",
      "===============================output!start=================================\n",
      "===============================output!done=================================\n",
      "===============================ou_level_lock_codes!done=================================\n",
      "===============================check!done=================================\n"
     ]
    }
   ],
   "source": [
    "\n",
    "out_df = pd.DataFrame()\n",
    "for ou_code0 in df9['ou_code'].unique():\n",
    "\n",
    "    bose_inv = load_data(ou_code0)\n",
    "    \n",
    "    print('{note:=>50}'.format(note=ou_code0) + '{note:=>50}'.format(note=''))\n",
    "    print(\"===============================this_code: %s=================================\"%code)\n",
    "\n",
    "    df0 = pd.DataFrame()\n",
    "    print(\"===============================boseInv before snap=================================\")\n",
    "    print(bose_inv.info())\n",
    "    snapshot()\n",
    "\n",
    "    df0.head()\n",
    "    print('{note:=>50}'.format(note='~') )\n",
    "    \n",
    "    df_err = err_part()\n",
    "    print('{note:=>50}'.format(note='~')  )\n",
    "\n",
    "    view = output(df_err)\n",
    "    bose_err_list = ou_level_lock_codes(code)\n",
    "    bose_definite_wrong = check(bose_err_list)\n",
    "    out_df = pd.concat([out_df, bose_definite_wrong], axis = 0)"
   ]
  },
  {
   "cell_type": "code",
   "execution_count": 48,
   "metadata": {},
   "outputs": [
    {
     "data": {
      "text/plain": [
       "array(['COSTASHHTS', 'HPPXXWHWDS', 'MICHETCTGS'], dtype=object)"
      ]
     },
     "execution_count": 48,
     "metadata": {},
     "output_type": "execute_result"
    }
   ],
   "source": [
    "out_df['ou_code'].unique()"
   ]
  },
  {
   "cell_type": "code",
   "execution_count": 49,
   "metadata": {},
   "outputs": [
    {
     "data": {
      "text/html": [
       "<div>\n",
       "<style scoped>\n",
       "    .dataframe tbody tr th:only-of-type {\n",
       "        vertical-align: middle;\n",
       "    }\n",
       "\n",
       "    .dataframe tbody tr th {\n",
       "        vertical-align: top;\n",
       "    }\n",
       "\n",
       "    .dataframe thead th {\n",
       "        text-align: right;\n",
       "    }\n",
       "</style>\n",
       "<table border=\"1\" class=\"dataframe\">\n",
       "  <thead>\n",
       "    <tr style=\"text-align: right;\">\n",
       "      <th></th>\n",
       "      <th>20211203</th>\n",
       "      <th>20211210</th>\n",
       "      <th>20211217</th>\n",
       "      <th>received_date</th>\n",
       "      <th>sku</th>\n",
       "      <th>mark</th>\n",
       "      <th>lock_codes</th>\n",
       "      <th>wms_warehouse_id</th>\n",
       "      <th>fifo_fefo</th>\n",
       "      <th>location</th>\n",
       "      <th>ou_code</th>\n",
       "    </tr>\n",
       "  </thead>\n",
       "  <tbody>\n",
       "    <tr>\n",
       "      <th>111</th>\n",
       "      <td>50.0</td>\n",
       "      <td>10.0</td>\n",
       "      <td>0.0</td>\n",
       "      <td>2022-01-06</td>\n",
       "      <td>COSTA020760</td>\n",
       "      <td>clear</td>\n",
       "      <td>Available</td>\n",
       "      <td>COSTA_SH</td>\n",
       "      <td>fefo</td>\n",
       "      <td>{D-115-05-03-A, SHIP-01}</td>\n",
       "      <td>COSTASHHTS</td>\n",
       "    </tr>\n",
       "    <tr>\n",
       "      <th>112</th>\n",
       "      <td>1003.0</td>\n",
       "      <td>0.0</td>\n",
       "      <td>0.0</td>\n",
       "      <td>2022-01-13</td>\n",
       "      <td>COSTA020760</td>\n",
       "      <td>clear</td>\n",
       "      <td>Available</td>\n",
       "      <td>COSTA_SH</td>\n",
       "      <td>fefo</td>\n",
       "      <td>{D-115-05-03-A, SHIP-01}</td>\n",
       "      <td>COSTASHHTS</td>\n",
       "    </tr>\n",
       "  </tbody>\n",
       "</table>\n",
       "</div>"
      ],
      "text/plain": [
       "     20211203  20211210  20211217 received_date          sku   mark  \\\n",
       "111      50.0      10.0       0.0    2022-01-06  COSTA020760  clear   \n",
       "112    1003.0       0.0       0.0    2022-01-13  COSTA020760  clear   \n",
       "\n",
       "    lock_codes wms_warehouse_id fifo_fefo                  location  \\\n",
       "111  Available         COSTA_SH      fefo  {D-115-05-03-A, SHIP-01}   \n",
       "112  Available         COSTA_SH      fefo  {D-115-05-03-A, SHIP-01}   \n",
       "\n",
       "        ou_code  \n",
       "111  COSTASHHTS  \n",
       "112  COSTASHHTS  "
      ]
     },
     "execution_count": 49,
     "metadata": {},
     "output_type": "execute_result"
    }
   ],
   "source": [
    "out_df.head(2)"
   ]
  },
  {
   "cell_type": "code",
   "execution_count": 13,
   "metadata": {},
   "outputs": [],
   "source": [
    "# out_df[out_df['ou_code'] == 'COSTASHHTS']"
   ]
  },
  {
   "cell_type": "code",
   "execution_count": null,
   "metadata": {},
   "outputs": [],
   "source": [
    "out_df['lock_codes'].unique()"
   ]
  },
  {
   "cell_type": "markdown",
   "metadata": {},
   "source": []
  },
  {
   "cell_type": "markdown",
   "metadata": {},
   "source": []
  },
  {
   "cell_type": "code",
   "execution_count": null,
   "metadata": {},
   "outputs": [],
   "source": [
    "def load_data(ou_code):\n",
    "    \"\"\"\n",
    "    load bose data;\n",
    "    所有类型的qty都要加起来哦\n",
    "    只选择有多个收货日期的货物\n",
    "    \"\"\"\n",
    "    global code\n",
    "    df = df9\n",
    "    df = df[df['ou_code'].astype(str) == ou_code]\n",
    "\n",
    "    def fifo_fefo(df, type):\n",
    "        if type == 'fifo':\n",
    "            df['recived_date'] = pd.to_datetime(df['recived_date'])\n",
    "            df['fifo_fefo'] = 'fifo'\n",
    "        elif type == 'fefo':\n",
    "            df['recived_date'] = pd.to_datetime(df['expiration_date'])\n",
    "            df['fifo_fefo'] = 'fefo'\n",
    "        else: \n",
    "            pass\n",
    "        return df \n",
    "\n",
    "    if ou_code == 'HPPXXWHWDS':\n",
    "        # hp wh\n",
    "        code = '(QH|27|QI)'\n",
    "        df = fifo_fefo(df, 'fifo')\n",
    "\n",
    "    elif ou_code == 'MICHETCTGS':\n",
    "        # mich tc, rt,m  FEFO\n",
    "        df = fifo_fefo(df, 'fefo')\n",
    "\n",
    "    elif ou_code == 'COSTASHHTS':\n",
    "        # COSTASHHTS expiration_date 没有空值.\n",
    "        df1 = df[df['expiration_date'] == '4712-12-31 00:00:00'] # fifo\n",
    "        df2 = df[df['expiration_date'] != '4712-12-31 00:00:00'] # fefo\n",
    "        df1 = fifo_fefo(df1, 'fifo')\n",
    "        df2 = fifo_fefo(df2, 'fefo')\n",
    "        df = pd.concat([df1, df2], axis = 0)\n",
    "\n",
    "    elif ou_code == 'SIEMESUEPS':\n",
    "        pass\n",
    "    \n",
    "    \n",
    "    df = df[['wms_company_name', 'wms_warehouse_id','sku_code', 'sku_name', 'sku_desc', 'location',\\\n",
    "        'lock_codes', 'on_hand_qty', 'in_transit_qty','allocated_qty', 'shelf_days', \n",
    "        'recived_date','usage_flag', 'fifo_fefo','inc_day']]\n",
    "    # qty = pd.Series(df.columns).str.extract('(.+qty)').dropna(axis = 0)\n",
    "    # df['qty'] = df[qty[0]].sum(axis = 1).round(2)\n",
    "    df['qty'] = df['on_hand_qty']\n",
    "    \n",
    "    # bose_inv.drop_duplicates(subset = ['sku_code', 'recived_date', 'lock_codes', 'inc_day', 'qty'])\n",
    "    # 没有重复的 目前看....aaa\n",
    "    df = df.groupby(\n",
    "        ['recived_date', 'sku_code', 'lock_codes','inc_day', 'wms_warehouse_id', 'fifo_fefo'], dropna = False\n",
    "        ).agg(\n",
    "    {\n",
    "        'qty':sum,\n",
    "        'location': set\n",
    "    }\n",
    "    ).sort_values(['sku_code', 'recived_date']).reset_index()\n",
    "    # 只选择有多个收货日期的货物\n",
    "    filter0 = df.groupby(['sku_code'])['recived_date'].agg(\n",
    "    {\n",
    "        set\n",
    "    }\n",
    "        ).reset_index()\n",
    "\n",
    "    filter0 = pd.DataFrame(filter0[filter0['set'].apply(len)> 1]['sku_code'].drop_duplicates())\n",
    "    bose_inv = filter0.merge(df, on = ['sku_code'], how = 'inner')\\\n",
    "        .sort_values(['recived_date','sku_code', 'inc_day'])\n",
    "    \n",
    "    return bose_inv\n",
    "\n"
   ]
  },
  {
   "cell_type": "code",
   "execution_count": null,
   "metadata": {},
   "outputs": [],
   "source": [
    "# =======================\n",
    "# # 只选择多次出库的货物\n",
    "# filter = bose.groupby(['recived_date', 'sku_code'])['inc_day'].agg({set}).reset_index()\n",
    "# filter = filter[filter['set'].apply(len)> 1][['recived_date','sku_code']].drop_duplicates();filter\n",
    "# bose_inv.head(4)\n",
    "bose_inv = load_data('HPPXXWHWDS')"
   ]
  },
  {
   "cell_type": "code",
   "execution_count": null,
   "metadata": {},
   "outputs": [],
   "source": [
    "%%time\n",
    "df0 = pd.DataFrame()\n",
    "def snapshot():\n",
    "    \"\"\"\n",
    "    pivot table. inc_day 快照 作为 cols\n",
    "    添加标记.\n",
    "    \"\"\"\n",
    "    global df0, bose_inv\n",
    "    for i in tqdm(bose_inv['sku_code'].unique(), ascii= False, colour = 'green'):\n",
    "        df_out = bose_inv[bose_inv['sku_code'] == i]\\\n",
    "            .pivot_table(columns=['inc_day'], index = 'recived_date', values=['qty']).reset_index()\n",
    "        df_out['sku_code'] = i\n",
    "        df0 = pd.concat([df0, df_out], axis = 0)\n",
    "    try:\n",
    "        df0.columns = df0.columns.get_level_values(level=1)\n",
    "    except:\n",
    "        pass\n",
    "    df0.columns = list(df0.columns[0:8]) + ['received_date','sku']\n",
    "    df0 = df0.sort_values(['sku', 'received_date'])\n",
    "    df0['mark'] = 0\n",
    "    # 这个吊东`西不知道为什么是反选的 \n",
    "    df0['mark'] = df0['mark'].where(df0.iloc[:, 0:7].isna().all(axis = 1) == False, 'new')\n",
    "    df0['mark'] = df0['mark'].where(~df0.iloc[:,7].isna() , 'clear')\n",
    "    # fill na~\n",
    "    df0 = df0.fillna(0)\n",
    "    bose_inv = bose_inv.rename({'sku_code':'sku', 'recived_date':'received_date'}, axis = 1)\\\n",
    "        .reset_index(drop = True).drop(['inc_day', 'qty'], axis = 1)\n",
    "    bose_inv = bose_inv.drop_duplicates(subset = ['sku', 'received_date', 'lock_codes'])\n",
    "    df0 = df0.merge(bose_inv, on = ['sku','received_date'], how = 'left')\n",
    "\n",
    "    # may lock\n",
    "    df0['mark'] = df0['mark'].where(df0.iloc[:, 0:8].fillna(0).nunique(axis = 1) > 1, 'may_lock')\n",
    "snapshot()"
   ]
  },
  {
   "cell_type": "code",
   "execution_count": null,
   "metadata": {},
   "outputs": [],
   "source": [
    "def err_part():\n",
    "    \"\"\"\n",
    "    findout who are the naught peach.\n",
    "    err 中干掉了 new 干掉了maylock \n",
    "    \"\"\"\n",
    "    df_err = df0[df0['mark'] != 'new']\n",
    "    # 补充可能被锁的标记\n",
    "    # df_err['mark'] = df_err['mark'].where(df_err.iloc[:, 0:8].fillna(0).nunique(axis = 1) > 1, 'may_lock')\n",
    "    # 干掉了maylock\n",
    "    df_err = df_err[df_err['mark'] != 'may_lock'].sort_values(['sku', 'received_date'])\n",
    "    df_err['change'] = df_err.iloc[:,0:8].diff(axis = 1).sum(axis = 1)\n",
    "    shift = df_err.groupby(['sku', 'wms_warehouse_id']).shift(1) \n",
    "    # q = []\n",
    "    # for i in shift['mark']:\n",
    "    #     if pd.isna(i):\n",
    "    #         q.append('clear')\n",
    "    #     elif i =='clear':\n",
    "    #         q.append('clear')\n",
    "    #     else:\n",
    "    #         q.append('check')\n",
    "    # shift['mark'] = q\n",
    "    # shift['mark2'] = shift.iloc[:,0:8].diff(axis = 1).sum(axis = 1)\n",
    "    shift = shift[['mark','change']]\n",
    "    shift.columns = ['lag_mark', 'lag_change']\n",
    "    shift['lag_mark'] = shift['lag_mark'].where(~shift['lag_mark'].isna(), 'clear')\n",
    "    df_err = pd.concat([df_err, shift], axis = 1)\n",
    "    # df_wrong = df_err[(df_err['lag_mark'] != 'clear') & (df_err['change'] != 0)]\n",
    "    # df_good  = df_err[(df_err['lag_mark'] != 'clear') | (df_err['change'] != 0)]\n",
    "    return df_err\n",
    "df_err = err_part()"
   ]
  },
  {
   "cell_type": "code",
   "execution_count": null,
   "metadata": {},
   "outputs": [],
   "source": [
    "# df_err.to_pickle('./data_up/df_err_bose.p')\n",
    "# df0.to_pickle('./data_up/df0_bose.p')\n",
    "# df_err_bose = pd.read_pickle('./data_up/df_err_bose.p')\n",
    "# df0_bose = pd.read_pickle('./data_up/df0_bose.p')\n",
    "# # df0_bose = df0_bose[df0_bose['wms_warehouse_id'] == 'BOSE_SH']\n",
    "# # df_err_bose = df_err_bose[df_err_bose['wms_warehouse_id'] == 'BOSE_SH']"
   ]
  },
  {
   "cell_type": "code",
   "execution_count": null,
   "metadata": {},
   "outputs": [],
   "source": [
    "\n",
    "def output(df_err, df0):\n",
    "    \"\"\"\n",
    "    筛选lag_mark, \n",
    "    \"\"\"\n",
    "    dishes = list(df_err[(df_err['lag_mark'] != 'clear') \\\n",
    "        & (df_err['change'] < 0)\n",
    "        & (df_err['change'] != df_err['lag_change'])]['sku'].unique())\n",
    "    print(df0['lock_codes'].unique())\n",
    "    return df0[df0['sku'].isin(dishes)]\n",
    "def check(sku, df0):\n",
    "    return df0[df0['sku'].isin(sku)].sort_values(['sku','received_date'])\n",
    "\n",
    "\n",
    "view = output(df_err,df0)\n",
    "\n",
    "def ou_level_lock_codes(lock_code_to_eliminate):\n",
    "    \"\"\"\n",
    "    正则. lock_code \"需要\"被排除的, 依赖view表格. \n",
    "    \"\"\"\n",
    "    # output(df_err_bose,df0_bose)['sku'].unique()\n",
    "    select_none_lock  = pd.DataFrame(\n",
    "        view.groupby('sku')['mark'].apply(list).astype(str).str.contains('may') # may lock?\n",
    "        ).reset_index()\n",
    "    select_none_lock2 = pd.DataFrame(\n",
    "        view.groupby('sku')['lock_codes'].apply(list).astype(str).str.contains(lock_code_to_eliminate)\n",
    "        ).reset_index()\n",
    "    # 去重    \n",
    "    bose_err_list = set(select_none_lock[~select_none_lock['mark']]['sku'].unique())\n",
    "    bose_err_list2 = list(select_none_lock2[~select_none_lock2['lock_codes']]['sku'].unique())\n",
    "    bose_err_list = list(bose_err_list.intersection(bose_err_list2))\n",
    "    bose_err_list = list(set(bose_err_list))\n",
    "    \n",
    "    return bose_err_list\n",
    "\n"
   ]
  },
  {
   "cell_type": "code",
   "execution_count": null,
   "metadata": {},
   "outputs": [],
   "source": [
    "# pd.DataFrame(\n",
    "#         view.groupby('sku')['mark'].apply(list).astype(str).str.contains('may') # may lock?\n",
    "#         ).reset_index()\n",
    "\n",
    "bose_inv['lock_codes'].unique()"
   ]
  },
  {
   "cell_type": "code",
   "execution_count": null,
   "metadata": {},
   "outputs": [],
   "source": [
    "\n",
    "# 1000全新 3000退货 4000破损产品-\n",
    "\n",
    "bose_err_list = ou_level_lock_codes('(QH|QI|27)')\n",
    "bose_definite_wrong = check(bose_err_list, df0)\n",
    "bose_definite_wrong['lock_codes'].unique()\n",
    "    # .to_csv('./data_up/bose_fifo.csv', index = None, encoding = 'utf_8_sig')"
   ]
  },
  {
   "cell_type": "code",
   "execution_count": null,
   "metadata": {},
   "outputs": [],
   "source": []
  },
  {
   "cell_type": "code",
   "execution_count": null,
   "metadata": {},
   "outputs": [],
   "source": []
  },
  {
   "cell_type": "markdown",
   "metadata": {},
   "source": [
    "=================================\n",
    "# HP\n",
    "=================================\n"
   ]
  },
  {
   "cell_type": "code",
   "execution_count": null,
   "metadata": {},
   "outputs": [],
   "source": [
    "%%time\n",
    "# del df0 ,bose_inv\n",
    "bose_inv = load_data('HPI_WH');bose_inv\n",
    "df0 = pd.DataFrame()\n",
    "snapshot()\n",
    "\n",
    "# snapshot()\n",
    "df_err = err_part()"
   ]
  },
  {
   "cell_type": "code",
   "execution_count": null,
   "metadata": {},
   "outputs": [],
   "source": [
    "# df0_hp['lock_codes'].unique()"
   ]
  },
  {
   "cell_type": "code",
   "execution_count": null,
   "metadata": {},
   "outputs": [],
   "source": [
    "df_err.to_pickle('./data_up/df_err_hpwh.p')\n",
    "df0.to_pickle('./data_up/df0_hpwh.p')\n",
    "df_err_hp = pd.read_pickle('./data_up/df_err_hpwh.p')\n",
    "df0_hp = pd.read_pickle('./data_up/df0_hpwh.p')\n"
   ]
  },
  {
   "cell_type": "code",
   "execution_count": null,
   "metadata": {},
   "outputs": [],
   "source": [
    "view = output(df_err_hp, df0_hp)\n",
    "err_list_hp = ou_level_lock_codes('(QH|27)')"
   ]
  },
  {
   "cell_type": "code",
   "execution_count": null,
   "metadata": {},
   "outputs": [],
   "source": [
    "def check(sku, df0):\n",
    "    return df0[df0['sku'].isin(sku)]\n",
    "hp_definite_wrong = check(err_list_hp, df0_hp)\n",
    "\n",
    "# Z7Y79A 问一下\n",
    "# \n",
    "hp_definite_wrong.head(6)"
   ]
  },
  {
   "cell_type": "code",
   "execution_count": null,
   "metadata": {},
   "outputs": [],
   "source": [
    "# hp_definite_wrong[hp_definite_wrong['wms_warehouse_id']=='HPI_WH']"
   ]
  },
  {
   "cell_type": "code",
   "execution_count": null,
   "metadata": {},
   "outputs": [],
   "source": [
    "hp_definite_wrong.to_csv('./data_up/hpwh_fifo.csv', index = None, encoding = 'utf_8_sig')"
   ]
  },
  {
   "cell_type": "code",
   "execution_count": null,
   "metadata": {},
   "outputs": [],
   "source": []
  },
  {
   "cell_type": "code",
   "execution_count": null,
   "metadata": {},
   "outputs": [],
   "source": []
  },
  {
   "cell_type": "code",
   "execution_count": null,
   "metadata": {},
   "outputs": [],
   "source": [
    "# hp_definite_wrong[hp_definite_wrong['sku'] == '1VV21AA']"
   ]
  },
  {
   "cell_type": "code",
   "execution_count": null,
   "metadata": {},
   "outputs": [],
   "source": [
    "hp_definite_wrong.to_csv('./data_up/hpsh_fifo.csv', index = None, encoding = 'utf_8_sig')"
   ]
  },
  {
   "cell_type": "markdown",
   "metadata": {},
   "source": [
    "=================================\n",
    "# michelin\n",
    "=================================\n"
   ]
  },
  {
   "cell_type": "code",
   "execution_count": null,
   "metadata": {},
   "outputs": [],
   "source": [
    "df0 = []\n",
    "bose_inv = []"
   ]
  },
  {
   "cell_type": "code",
   "execution_count": null,
   "metadata": {},
   "outputs": [],
   "source": [
    "df9[df9['wms_warehouse_name'] == 'OE']"
   ]
  },
  {
   "cell_type": "code",
   "execution_count": null,
   "metadata": {},
   "outputs": [],
   "source": [
    "%%time\n",
    "# del df0 ,bose_inv\n",
    "bose_inv = load_data('RT');bose_inv\n",
    "df0 = pd.DataFrame()\n",
    "snapshot()\n",
    "\n",
    "# snapshot()\n",
    "df_err = err_part()"
   ]
  },
  {
   "cell_type": "code",
   "execution_count": null,
   "metadata": {},
   "outputs": [],
   "source": [
    "df_err.to_pickle('./data_up/df_err_michrt.p')\n",
    "df0.to_pickle('./data_up/df0_michrt.p')\n",
    "df_err_mich = pd.read_pickle('./data_up/df_err_michrt.p')\n",
    "df0_mich = pd.read_pickle('./data_up/df0_michrt.p')\n"
   ]
  },
  {
   "cell_type": "code",
   "execution_count": null,
   "metadata": {},
   "outputs": [],
   "source": [
    "output(df0=df0_mich, df_err=df_err_mich).head(3)"
   ]
  },
  {
   "cell_type": "code",
   "execution_count": null,
   "metadata": {},
   "outputs": [],
   "source": [
    "# df0_mich['lock_codes'].str.slice(0,7).unique()"
   ]
  },
  {
   "cell_type": "code",
   "execution_count": null,
   "metadata": {},
   "outputs": [],
   "source": [
    "view = output(df0=df0_mich, df_err=df_err_mich)\n",
    "err_list_mich = ou_level_lock_codes('(BLOCKED_TH|RETURN)')"
   ]
  },
  {
   "cell_type": "code",
   "execution_count": null,
   "metadata": {},
   "outputs": [],
   "source": [
    "def check(sku, df0):\n",
    "    return df0[df0['sku'].isin(sku)]\n",
    "\n",
    "mich_definite_wrong = check(err_list_mich, df0 = df0_mich)\n",
    "\n",
    "# MATMICHELIN00591\n",
    "\n",
    "# 同一时间 received 货物为什么会增加\n",
    "# mich dot date?"
   ]
  },
  {
   "cell_type": "code",
   "execution_count": null,
   "metadata": {},
   "outputs": [],
   "source": [
    "df0_mich[df0_mich['sku'] == '085753_111']"
   ]
  },
  {
   "cell_type": "code",
   "execution_count": null,
   "metadata": {},
   "outputs": [],
   "source": [
    "mich_definite_wrong[mich_definite_wrong['sku'] == '085753_111']"
   ]
  },
  {
   "cell_type": "code",
   "execution_count": null,
   "metadata": {},
   "outputs": [],
   "source": [
    "mich_definite_wrong.to_csv('./data_up/michrt_fifo.csv', index = None, encoding = 'utf_8_sig')"
   ]
  },
  {
   "cell_type": "code",
   "execution_count": null,
   "metadata": {},
   "outputs": [],
   "source": []
  },
  {
   "cell_type": "code",
   "execution_count": null,
   "metadata": {},
   "outputs": [],
   "source": [
    "%%time\n",
    "# del df0 ,bose_inv\n",
    "bose_inv = load_data('OE');bose_inv\n",
    "df0 = pd.DataFrame()\n",
    "snapshot()\n",
    "df_err = err_part()\n",
    "view = output(df0=df0, df_err=df_err)\n",
    "err_list_mich = ou_level_lock_codes('(BLOCKED_TH|RETURN)')\n",
    "def check(sku, df0):\n",
    "    return df0[df0['sku'].isin(sku)]\n",
    "\n",
    "mich_definite_wrong = check(err_list_mich, df0 = df0)\n",
    "\n",
    "mich_definite_wrong.head()"
   ]
  },
  {
   "cell_type": "code",
   "execution_count": null,
   "metadata": {},
   "outputs": [],
   "source": [
    "mich_definite_wrong.to_csv('./data_up/michoe_fifo.csv', index = None, encoding = 'utf_8_sig')"
   ]
  },
  {
   "cell_type": "code",
   "execution_count": null,
   "metadata": {},
   "outputs": [],
   "source": []
  },
  {
   "cell_type": "markdown",
   "metadata": {},
   "source": [
    "==========================\n",
    "# fas <br>\n",
    "=========================="
   ]
  },
  {
   "cell_type": "code",
   "execution_count": null,
   "metadata": {},
   "outputs": [],
   "source": [
    "bose_inv = load_data('FAS') \n",
    "df0 = pd.DataFrame()\n",
    "snapshot()"
   ]
  },
  {
   "cell_type": "code",
   "execution_count": null,
   "metadata": {},
   "outputs": [],
   "source": [
    "df_err = err_part()\n",
    "view = output(df_err, df0)"
   ]
  },
  {
   "cell_type": "code",
   "execution_count": null,
   "metadata": {},
   "outputs": [],
   "source": [
    "bose_inv.head(3)"
   ]
  },
  {
   "cell_type": "code",
   "execution_count": null,
   "metadata": {},
   "outputs": [],
   "source": [
    "err_list_hp = ou_level_lock_codes('(Avi)') \n",
    "bose_inv[bose_inv['sku'] == err_list_hp[0]]"
   ]
  },
  {
   "cell_type": "code",
   "execution_count": null,
   "metadata": {},
   "outputs": [],
   "source": [
    "\n",
    "def check(sku, df0):\n",
    "    return df0[df0['sku'].isin(sku)]\n",
    "hp_definite_wrong = check(err_list_hp, df0)\n",
    "\n",
    "# hp_definite_wrong.head(6)"
   ]
  },
  {
   "cell_type": "code",
   "execution_count": null,
   "metadata": {},
   "outputs": [],
   "source": [
    "hp_definite_wrong.to_csv('./data_up/fas.csv', index = None, encoding = 'utf_8_sig')"
   ]
  },
  {
   "cell_type": "markdown",
   "metadata": {},
   "source": [
    "==========================\n",
    "# part2 <br>\n",
    "=========================="
   ]
  },
  {
   "cell_type": "markdown",
   "metadata": {},
   "source": [
    "**select * from  dsc_dwd.dwd_wh_dsc_inventory_dtl_di \n",
    "where src = 'scale'\n",
    "and  ou_code in(\n",
    "'FERRECDXXS',\n",
    "'APPLESHWHW',\n",
    "'HUSQVSHMFS',\n",
    "'COSTASHHTS',\n",
    "'FUJIXSYXXS',\n",
    "'ZEBRASHALS'\n",
    ")\n",
    "and inc_day in ('20211124', '20211117', '20211110', '20211103', \n",
    "'20211027', '20211020', '20211013','20211006')\n",
    "and usage_flag = '1'**"
   ]
  },
  {
   "cell_type": "code",
   "execution_count": null,
   "metadata": {},
   "outputs": [],
   "source": [
    "%%time\n",
    "df = pd.read_csv('./data_down/inv_7_2.csv', sep='\\001')\n",
    "df.columns = [re.sub('\\w+\\.', '', i) for i in list(df.columns)]\n",
    "df = df.dropna(how = 'all', axis =1)\n",
    "time_cols = pd.Series(df.columns)[pd.Series(df.columns).str.lower().str.findall('date|time').apply(len)>0]\n",
    "df[time_cols] = df[time_cols].apply(lambda x: x.str.slice(0,10))\n",
    "df9 = df"
   ]
  },
  {
   "cell_type": "markdown",
   "metadata": {},
   "source": [
    "## Ferrero"
   ]
  },
  {
   "cell_type": "code",
   "execution_count": null,
   "metadata": {},
   "outputs": [],
   "source": [
    "bose_inv = load_data('FERRECDXXS') \n",
    "df0 = pd.DataFrame()\n",
    "snapshot()\n",
    "df_err = err_part()\n",
    "view = output(df_err, df0)"
   ]
  },
  {
   "cell_type": "code",
   "execution_count": null,
   "metadata": {},
   "outputs": [],
   "source": [
    "err_list_hp = ou_level_lock_codes('Blocked') \n",
    "bose_inv[bose_inv['sku'] == err_list_hp[0]]"
   ]
  },
  {
   "cell_type": "code",
   "execution_count": null,
   "metadata": {},
   "outputs": [],
   "source": [
    "def check(sku, df0):\n",
    "    return df0[df0['sku'].isin(sku)]\n",
    "hp_definite_wrong = check(err_list_hp, df0)\n",
    "\n",
    "# hp_definite_wrong.head(6)"
   ]
  },
  {
   "cell_type": "code",
   "execution_count": null,
   "metadata": {},
   "outputs": [],
   "source": [
    "hp_definite_wrong.to_csv('./data_up/ferrero_FERRECDXXS.csv', index = None, encoding = 'utf_8_sig')"
   ]
  },
  {
   "cell_type": "markdown",
   "metadata": {},
   "source": [
    "## Apple sh"
   ]
  },
  {
   "cell_type": "code",
   "execution_count": null,
   "metadata": {},
   "outputs": [],
   "source": [
    "df.ou_code.unique()"
   ]
  },
  {
   "cell_type": "code",
   "execution_count": null,
   "metadata": {},
   "outputs": [],
   "source": [
    "bose_inv = load_data('APPLESHWHW') \n",
    "df0 = pd.DataFrame()\n",
    "snapshot()\n",
    "df_err = err_part()\n",
    "view = output(df_err, df0)"
   ]
  },
  {
   "cell_type": "code",
   "execution_count": null,
   "metadata": {},
   "outputs": [],
   "source": [
    "err_list_hp"
   ]
  },
  {
   "cell_type": "code",
   "execution_count": null,
   "metadata": {},
   "outputs": [],
   "source": [
    "err_list_hp = ou_level_lock_codes('ttt') \n",
    "# bose_inv[bose_inv['sku'] == err_list_hp[0]]"
   ]
  },
  {
   "cell_type": "code",
   "execution_count": null,
   "metadata": {},
   "outputs": [],
   "source": [
    "def check(sku, df0):\n",
    "    return df0[df0['sku'].isin(sku)]\n",
    "hp_definite_wrong = check(err_list_hp, df0)\n",
    "\n",
    "# hp_definite_wrong.head(6)"
   ]
  },
  {
   "cell_type": "code",
   "execution_count": null,
   "metadata": {},
   "outputs": [],
   "source": [
    "# hp_definite_wrong[hp_definite_wrong['sku'] == '339S00668']"
   ]
  },
  {
   "cell_type": "code",
   "execution_count": null,
   "metadata": {},
   "outputs": [],
   "source": [
    "hp_definite_wrong.to_csv('./data_up/apple_sh_APPLESHWHW.csv', index = None, encoding = 'utf_8_sig')"
   ]
  },
  {
   "cell_type": "markdown",
   "metadata": {},
   "source": [
    "## costa "
   ]
  },
  {
   "cell_type": "code",
   "execution_count": null,
   "metadata": {},
   "outputs": [],
   "source": [
    "bose_inv = load_data('COSTASHHTS') \n",
    "df0 = pd.DataFrame()\n",
    "snapshot()\n",
    "df_err = err_part()\n",
    "view = output(df_err, df0)"
   ]
  },
  {
   "cell_type": "code",
   "execution_count": null,
   "metadata": {},
   "outputs": [],
   "source": [
    "err_list_hp = ou_level_lock_codes('Held') \n",
    "df0[df0['sku'] == err_list_hp[0]]"
   ]
  },
  {
   "cell_type": "code",
   "execution_count": null,
   "metadata": {},
   "outputs": [],
   "source": [
    "def check(sku, df0):\n",
    "    return df0[df0['sku'].isin(sku)]\n",
    "hp_definite_wrong = check(err_list_hp, df0)\n",
    "\n",
    "# hp_definite_wrong.head(6)"
   ]
  },
  {
   "cell_type": "code",
   "execution_count": null,
   "metadata": {},
   "outputs": [],
   "source": [
    "hp_definite_wrong.to_csv('./data_up/costa_COSTASHHTS.csv', index = None, encoding = 'utf_8_sig')"
   ]
  },
  {
   "cell_type": "markdown",
   "metadata": {},
   "source": [
    "## ZEBRASHALS"
   ]
  },
  {
   "cell_type": "code",
   "execution_count": null,
   "metadata": {},
   "outputs": [],
   "source": [
    "bose_inv = load_data('ZEBRASHALS') \n",
    "df0 = pd.DataFrame()\n",
    "snapshot()\n",
    "df_err = err_part()\n",
    "view = output(df_err, df0)"
   ]
  },
  {
   "cell_type": "code",
   "execution_count": null,
   "metadata": {},
   "outputs": [],
   "source": [
    "err_list_hp = ou_level_lock_codes('HOLD1') \n",
    "df0[df0['sku'] == err_list_hp[0]]"
   ]
  },
  {
   "cell_type": "code",
   "execution_count": null,
   "metadata": {},
   "outputs": [],
   "source": [
    "def check(sku, df0):\n",
    "    return df0[df0['sku'].isin(sku)]\n",
    "hp_definite_wrong = check(err_list_hp, df0)\n",
    "\n",
    "hp_definite_wrong.head(6)"
   ]
  },
  {
   "cell_type": "code",
   "execution_count": null,
   "metadata": {},
   "outputs": [],
   "source": [
    "hp_definite_wrong.to_csv('./data_up/zebra_ZEBRASHALS.csv', index = None, encoding = 'utf_8_sig')"
   ]
  }
 ],
 "metadata": {
  "interpreter": {
   "hash": "47b50d2908d96196e4220cfb4e81faa93803065ea975497e7026f672c1f58470"
  },
  "kernelspec": {
   "display_name": "Python 3.8.8 64-bit ('siming': conda)",
   "language": "python",
   "name": "python3"
  },
  "language_info": {
   "codemirror_mode": {
    "name": "ipython",
    "version": 3
   },
   "file_extension": ".py",
   "mimetype": "text/x-python",
   "name": "python",
   "nbconvert_exporter": "python",
   "pygments_lexer": "ipython3",
   "version": "3.8.8"
  },
  "orig_nbformat": 4
 },
 "nbformat": 4,
 "nbformat_minor": 2
}
